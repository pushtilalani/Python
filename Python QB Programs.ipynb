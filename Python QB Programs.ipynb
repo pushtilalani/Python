{
 "cells": [
  {
   "cell_type": "code",
   "execution_count": 6,
   "id": "953f4b65",
   "metadata": {},
   "outputs": [
    {
     "name": "stdout",
     "output_type": "stream",
     "text": [
      "Enter a number to find the square root of: 25\n",
      "Enter the number of iterations for Newton's Method: 10\n",
      "The square root of 25.0 using Newton's Method after 10 iterations is approximately: 5.000000\n"
     ]
    }
   ],
   "source": [
    "# QB-235\n",
    "# Write your own python program for computing square roots that implements Newton’s Method. Use of inbuilt function, \n",
    "# math library or x**0.5 is not allowed.\n",
    "# Newton Method is a category of guess-and-check approach. You first guess what the square root might be and then see \n",
    "# how close your guess is. You can use this information to make another guess and continue guessing until you have found \n",
    "# the square root (or a close approximation to it). Suppose x is the number we want the root of and guess is the current guessed \n",
    "# answer. The guess can be improved by using (guess+ x/guess)/2 as the next guess.\n",
    "\n",
    "# The program should -\n",
    "\n",
    "# Prompt the user for the value to find the square root of (x) and the number of times to improve the guess.\n",
    "# Starting with a guess value of x/2, your program should loop the specified number of times applying Newton’s method\n",
    "# and report the final value of guess.\n",
    "\n",
    "\n",
    "\n",
    "def newton_sqrt(x, num_iterations):\n",
    "    guess = x / 2  # Initial guess\n",
    "\n",
    "    for i in range(num_iterations):\n",
    "        guess = (guess + x / guess) / 2\n",
    "\n",
    "    return guess\n",
    "\n",
    "# Prompt user for input\n",
    "x = float(input(\"Enter a number to find the square root of: \"))\n",
    "num_iterations = int(input(\"Enter the number of iterations for Newton's Method: \"))\n",
    "\n",
    "# Check for valid input\n",
    "if x < 0 or num_iterations <= 0:\n",
    "    print(\"Please enter a positive number and a positive number of iterations.\")\n",
    "else:\n",
    "    # Compute square root using Newton's Method\n",
    "    result = newton_sqrt(x, num_iterations)\n",
    "    print(f\"The square root of {x} using Newton's Method after {num_iterations} iterations is approximately: {result:.6f}\")"
   ]
  },
  {
   "cell_type": "code",
   "execution_count": 5,
   "id": "4530bfde",
   "metadata": {},
   "outputs": [
    {
     "name": "stdout",
     "output_type": "stream",
     "text": [
      "Enter a number:134\n",
      "Reversed Number:  431\n",
      "Reversed Number:  451\n"
     ]
    }
   ],
   "source": [
    "# QB-234\n",
    "#Write a Python program to find reverse of given number using user defined function.\n",
    "\n",
    "def rev(num) :\n",
    "    reversed_num = 0\n",
    "    while num != 0:\n",
    "        digit = num % 10\n",
    "        reversed_num = reversed_num * 10 + digit\n",
    "        num //= 10\n",
    "    print(\"Reversed Number: \",reversed_num)\n",
    "num = int(input(\"Enter a number:\"))\n",
    "rev(num) #function call\n",
    "rev(154) #function call"
   ]
  },
  {
   "cell_type": "code",
   "execution_count": 7,
   "id": "59337e4b",
   "metadata": {},
   "outputs": [
    {
     "name": "stdout",
     "output_type": "stream",
     "text": [
      "Enter a positive integer (n): 5\n",
      "The multiplication of the first 5 natural numbers is: 120\n"
     ]
    }
   ],
   "source": [
    "# QB-233\n",
    "# Write a Python program to demonstrate the function of finding multiplication of first n natural numbers.\n",
    "\n",
    "\n",
    "def multiply_first_n_natural_numbers(n):\n",
    "    result = 1\n",
    "    for i in range(1, n + 1):\n",
    "        result *= i\n",
    "    return result\n",
    "\n",
    "# Get user input for the value of n\n",
    "n = int(input(\"Enter a positive integer (n): \"))\n",
    "\n",
    "# Check if n is a positive integer\n",
    "if n < 0:\n",
    "    print(\"Please enter a positive integer.\")\n",
    "else:\n",
    "    # Call the function and display the result\n",
    "    result = multiply_first_n_natural_numbers(n)\n",
    "    print(f\"The multiplication of the first {n} natural numbers is: {result}\")\n"
   ]
  },
  {
   "cell_type": "code",
   "execution_count": 13,
   "id": "cfeabd92",
   "metadata": {},
   "outputs": [
    {
     "name": "stdout",
     "output_type": "stream",
     "text": [
      "Enter a positive integer (n): 10\n",
      "The sum of the first 10 natural numbers is: 55\n",
      "The average of the first 10 natural numbers is: 5.5\n"
     ]
    }
   ],
   "source": [
    "# QB-232\n",
    "# Write a Python program to demonstrate the function of finding sum and average of first n natural numbers.\n",
    "\n",
    "\n",
    "def calculate_sum_and_average(n):\n",
    "    sum_natural_numbers = n * (n + 1) // 2  # Sum formula for first n natural numbers\n",
    "    average_natural_numbers = sum_natural_numbers / n\n",
    "    return sum_natural_numbers, average_natural_numbers\n",
    "\n",
    "# Get user input for the value of n\n",
    "n = int(input(\"Enter a positive integer (n): \"))\n",
    "\n",
    "# Check if n is a positive integer\n",
    "if n < 0:\n",
    "    print(\"Please enter a positive integer.\")\n",
    "else:\n",
    "    # Call the function and display the result\n",
    "    sum_result, average_result = calculate_sum_and_average(n)\n",
    "    print(f\"The sum of the first {n} natural numbers is: {sum_result}\")\n",
    "    print(f\"The average of the first {n} natural numbers is: {average_result}\")\n"
   ]
  },
  {
   "cell_type": "code",
   "execution_count": 16,
   "id": "95bf3490",
   "metadata": {},
   "outputs": [
    {
     "name": "stdout",
     "output_type": "stream",
     "text": [
      "Enter first number: 24\n",
      "Enter second number: 32\n",
      "Enter operator (+, -, *, /): /\n",
      "The result is: 0.75\n"
     ]
    }
   ],
   "source": [
    "# QB-231\n",
    "# Write a Python Program to demonstarte a Simple Calculator using python functions\n",
    "\n",
    "\n",
    "def add(x, y):\n",
    "    return x + y\n",
    "\n",
    "def subtract(x, y):\n",
    "    return x - y\n",
    "\n",
    "def multiply(x, y):\n",
    "    return x * y\n",
    "\n",
    "def divide(x, y):\n",
    "    if y != 0:\n",
    "        return x / y\n",
    "    else:\n",
    "        return \"Cannot divide by zero.\"\n",
    "\n",
    "num1 = float(input(\"Enter first number: \"))\n",
    "num2 = float(input(\"Enter second number: \"))\n",
    "operator = input(\"Enter operator (+, -, *, /): \")\n",
    "\n",
    "if operator == '+':\n",
    "    result = add(num1, num2)\n",
    "elif operator == '-':\n",
    "    result = subtract(num1, num2)\n",
    "elif operator == '*':\n",
    "    result = multiply(num1, num2)\n",
    "elif operator == '/':\n",
    "    result = divide(num1, num2)\n",
    "else:\n",
    "    result = \"Invalid operator.\"\n",
    "\n",
    "print(f\"The result is: {result}\")"
   ]
  },
  {
   "cell_type": "code",
   "execution_count": 17,
   "id": "ad48f492",
   "metadata": {},
   "outputs": [
    {
     "name": "stdout",
     "output_type": "stream",
     "text": [
      "1\n",
      "2\n",
      "3\n",
      "4\n",
      "5\n"
     ]
    }
   ],
   "source": [
    "# QB-230\n",
    "# Write a python program to demonstarte a function to print the number 1 to 5.\n",
    "\n",
    "def print_numbers():\n",
    "    for i in range(1, 6):\n",
    "        print(i)\n",
    "\n",
    "# Call the function to print numbers 1 to 5\n",
    "print_numbers()\n"
   ]
  },
  {
   "cell_type": "code",
   "execution_count": 18,
   "id": "0f963cc4",
   "metadata": {},
   "outputs": [
    {
     "name": "stdout",
     "output_type": "stream",
     "text": [
      "Enter a number: 153\n",
      "153 is an Armstrong number\n"
     ]
    }
   ],
   "source": [
    "# QB-229\n",
    "# Write a Python program to check whether the given no is Armstrong or not using user defined function.\n",
    "\n",
    "num = int(input(\"Enter a number: \"))\n",
    "temp = num\n",
    "sum = 0\n",
    "while temp > 0:\n",
    "    digit = temp % 10\n",
    "    sum += digit ** 3\n",
    "    temp //= 10\n",
    "if num == sum:\n",
    "    print(f\"{num} is an Armstrong number\")\n",
    "else:\n",
    "    print(f\"{num} is not an Armstrong number\")"
   ]
  },
  {
   "cell_type": "code",
   "execution_count": 32,
   "id": "5e341a2d",
   "metadata": {},
   "outputs": [
    {
     "name": "stdout",
     "output_type": "stream",
     "text": [
      "6 is even\n",
      "7 is odd\n"
     ]
    }
   ],
   "source": [
    "# QB-228\n",
    "# Write a Python program to accept two numbers and check it for odd or even number\n",
    "\n",
    "n1=6\n",
    "if n1%2 == 0 :\n",
    "    print(f\"{n1} is even\")\n",
    "else:\n",
    "    print(f\"{n1} is odd\")\n",
    "n2=7\n",
    "if n2%2 == 0 :\n",
    "    print(f\"{n2} is even\")\n",
    "else:\n",
    "    print(f\"{n2} is odd\")"
   ]
  },
  {
   "cell_type": "code",
   "execution_count": 33,
   "id": "7611d784",
   "metadata": {},
   "outputs": [
    {
     "name": "stdout",
     "output_type": "stream",
     "text": [
      "Enter the first number: 4\n",
      "Enter the second number: 5\n",
      "The maximum of 4.0 and 5.0 is: 5.0\n"
     ]
    }
   ],
   "source": [
    "# QB-227\n",
    "# Write a Python function to find the Max of TWO numbers.\n",
    "\n",
    "\n",
    "def find_max(num1, num2):\n",
    "    return max(num1, num2)\n",
    "\n",
    "# Get user input for two numbers\n",
    "num1 = float(input(\"Enter the first number: \"))\n",
    "num2 = float(input(\"Enter the second number: \"))\n",
    "\n",
    "# Call the function and display the result\n",
    "max_number = find_max(num1, num2)\n",
    "print(f\"The maximum of {num1} and {num2} is: {max_number}\")\n"
   ]
  },
  {
   "cell_type": "code",
   "execution_count": 17,
   "id": "f52ab044",
   "metadata": {},
   "outputs": [
    {
     "name": "stdout",
     "output_type": "stream",
     "text": [
      "Enter 1st number: 4\n",
      "Enter 2nd number: 5\n",
      "5 is maximum\n"
     ]
    }
   ],
   "source": [
    "def max(n1,n2):\n",
    "    if n1>n2:\n",
    "        print(f\"{n1} is maximum\")\n",
    "    elif n1<n2 :\n",
    "        print(f\"{n2} is maximum\")\n",
    "    else: \n",
    "        print(\"Enter Valid Number\")\n",
    "n1=int(input(\"Enter 1st number: \")) \n",
    "n2=int(input(\"Enter 2nd number: \"))\n",
    "result=max(n1,n2)"
   ]
  },
  {
   "cell_type": "code",
   "execution_count": 41,
   "id": "58af99fe",
   "metadata": {},
   "outputs": [
    {
     "name": "stdout",
     "output_type": "stream",
     "text": [
      "Enter Number: 10\n",
      "0\n",
      "1\n",
      "1\n",
      "2\n",
      "3\n",
      "5\n",
      "8\n",
      "13\n",
      "21\n",
      "34\n"
     ]
    }
   ],
   "source": [
    "# QB-226\n",
    "# Write a Python function to display the Fibonacci sequence till the given user input n.\n",
    "\n",
    "\n",
    "def fibonacci(n) :\n",
    "    a=0\n",
    "    b=1\n",
    "    c=0\n",
    "    for i in range(n):\n",
    "        a=b\n",
    "        b=c\n",
    "        print(c)\n",
    "        c=a+b\n",
    "n=int(input(\"Enter Number: \")) \n",
    "result=fibonacci(n)"
   ]
  },
  {
   "cell_type": "code",
   "execution_count": 43,
   "id": "a3f55fc7",
   "metadata": {},
   "outputs": [
    {
     "name": "stdout",
     "output_type": "stream",
     "text": [
      "Enter the value of n: 6\n",
      "The 6th value in the Fibonacci sequence is: 5\n"
     ]
    }
   ],
   "source": [
    "def fibonacci(n):\n",
    "    if n <= 0:\n",
    "        return \"Please enter a positive integer for n.\"\n",
    "    elif n == 1:\n",
    "        return 0\n",
    "    elif n == 2:\n",
    "        return 1\n",
    "    else:\n",
    "        return fibonacci(n - 1) + fibonacci(n - 2)\n",
    "\n",
    "# Test the function\n",
    "n = int(input(\"Enter the value of n: \"))\n",
    "result = fibonacci(n)\n",
    "print(f\"The {n}th value in the Fibonacci sequence is: {result}\")"
   ]
  },
  {
   "cell_type": "code",
   "execution_count": 49,
   "id": "9bbbf94f",
   "metadata": {},
   "outputs": [
    {
     "name": "stdout",
     "output_type": "stream",
     "text": [
      "Enter a number : 5\n",
      "Enter starting number : 1\n",
      "Enter ending number : 10\n",
      "5 is in range\n"
     ]
    }
   ],
   "source": [
    "# QB-225\n",
    "# Write a Python function to check whether a number is in a given range.\n",
    "\n",
    "\n",
    "def range_n(n,start,end) :\n",
    "    if start<=n<=end:\n",
    "        print(f\"{n} is in range\")\n",
    "    else :\n",
    "        print(f\"{n} is not in range\")\n",
    "        \n",
    "n=int(input(\"Enter a number : \"))\n",
    "start=int(input(\"Enter starting number : \"))\n",
    "end=int(input(\"Enter ending number : \"))\n",
    "\n",
    "result=range_n(n,start,end)"
   ]
  },
  {
   "cell_type": "code",
   "execution_count": 3,
   "id": "3d0abedf",
   "metadata": {},
   "outputs": [
    {
     "name": "stdout",
     "output_type": "stream",
     "text": [
      "Enter a number : 5\n",
      "Factorial of 5 is : 120\n"
     ]
    }
   ],
   "source": [
    "# QB-224\n",
    "# Write a Python function to calculate the factorial of a given number.\n",
    "\n",
    "\n",
    "def factorial(n) :\n",
    "    fact=1\n",
    "    if n<0 :\n",
    "        print(\"Factorial cannot be negative\")\n",
    "    elif n==0 :\n",
    "        print(\"Factorial of 0 is 1\")\n",
    "    else :\n",
    "        for i in range(1,n+1) :\n",
    "            fact*=i   \n",
    "        print(f\"Factorial of {n} is : {fact}\")    \n",
    "n=int(input(\"Enter a number : \")) \n",
    "result=factorial(n)"
   ]
  },
  {
   "cell_type": "code",
   "execution_count": 14,
   "id": "0b97950a",
   "metadata": {},
   "outputs": [
    {
     "name": "stdout",
     "output_type": "stream",
     "text": [
      "Enter farenheit : 33\n",
      "33.0 is converted into celsius: 0.55556\n",
      "Enter celsius : 45\n",
      "45.0 is converted into farenheit: 113.00000\n"
     ]
    }
   ],
   "source": [
    "def F_to_C(f):\n",
    "    c=(5/9)*(f-32)\n",
    "    print(f\"{f} is converted into celsius: {c:.5f}\")\n",
    "f=float(input(\"Enter farenheit : \"))\n",
    "result=F_to_C(f)\n",
    "\n",
    "def C_to_F(c):\n",
    "    f=(9/5*c)+32\n",
    "    print(f\"{c} is converted into farenheit: {f:.5f}\")\n",
    "c=float(input(\"Enter celsius : \"))\n",
    "result=C_to_F(c)"
   ]
  }
 ],
 "metadata": {
  "kernelspec": {
   "display_name": "Python 3 (ipykernel)",
   "language": "python",
   "name": "python3"
  },
  "language_info": {
   "codemirror_mode": {
    "name": "ipython",
    "version": 3
   },
   "file_extension": ".py",
   "mimetype": "text/x-python",
   "name": "python",
   "nbconvert_exporter": "python",
   "pygments_lexer": "ipython3",
   "version": "3.11.5"
  }
 },
 "nbformat": 4,
 "nbformat_minor": 5
}
