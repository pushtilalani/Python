{
 "cells": [
  {
   "cell_type": "code",
   "execution_count": 1,
   "id": "9157386b",
   "metadata": {},
   "outputs": [
    {
     "name": "stdout",
     "output_type": "stream",
     "text": [
      "Hello Python\n"
     ]
    }
   ],
   "source": [
    "def greet():\n",
    "    print(\"Hello Python\")\n",
    "greet()    "
   ]
  },
  {
   "cell_type": "code",
   "execution_count": 3,
   "id": "7554828d",
   "metadata": {},
   "outputs": [],
   "source": [
    "def calculate(x,y) :\n",
    "    add=x+y\n",
    "    sub=x-y\n",
    "    mul=x*y\n",
    "    div=x/y\n",
    "    mod=x%y\n",
    "    return add,sub,mul,div,mod  "
   ]
  },
  {
   "cell_type": "code",
   "execution_count": 4,
   "id": "7b50ca2d",
   "metadata": {},
   "outputs": [
    {
     "data": {
      "text/plain": [
       "(9, -3, 18, 0.5, 3)"
      ]
     },
     "execution_count": 4,
     "metadata": {},
     "output_type": "execute_result"
    }
   ],
   "source": [
    "calculate(3,6)"
   ]
  },
  {
   "cell_type": "code",
   "execution_count": 5,
   "id": "92329444",
   "metadata": {},
   "outputs": [
    {
     "data": {
      "text/plain": [
       "function"
      ]
     },
     "execution_count": 5,
     "metadata": {},
     "output_type": "execute_result"
    }
   ],
   "source": [
    "type(calculate)"
   ]
  },
  {
   "cell_type": "code",
   "execution_count": 7,
   "id": "76a44b6a",
   "metadata": {},
   "outputs": [
    {
     "data": {
      "text/plain": [
       "tuple"
      ]
     },
     "execution_count": 7,
     "metadata": {},
     "output_type": "execute_result"
    }
   ],
   "source": [
    "x=calculate(3,6)\n",
    "type(x)"
   ]
  },
  {
   "cell_type": "code",
   "execution_count": 8,
   "id": "d911f389",
   "metadata": {},
   "outputs": [
    {
     "name": "stdout",
     "output_type": "stream",
     "text": [
      "100\n"
     ]
    }
   ],
   "source": [
    "def square(x=10):\n",
    "    print(x*x)\n",
    "square()"
   ]
  },
  {
   "cell_type": "code",
   "execution_count": 9,
   "id": "51a643c1",
   "metadata": {},
   "outputs": [
    {
     "name": "stdout",
     "output_type": "stream",
     "text": [
      "25\n"
     ]
    }
   ],
   "source": [
    "def square(x=10):\n",
    "    print(x*x)\n",
    "square(5)"
   ]
  },
  {
   "cell_type": "code",
   "execution_count": 2,
   "id": "44edddd7",
   "metadata": {},
   "outputs": [
    {
     "data": {
      "text/plain": [
       "-150"
      ]
     },
     "execution_count": 2,
     "metadata": {},
     "output_type": "execute_result"
    }
   ],
   "source": [
    "def sub(x,y) :\n",
    "    return x-y\n",
    "sub(200,50)\n",
    "sub(50,200)"
   ]
  },
  {
   "cell_type": "code",
   "execution_count": 4,
   "id": "934d9839",
   "metadata": {},
   "outputs": [
    {
     "name": "stdout",
     "output_type": "stream",
     "text": [
      "Hello Python Hii\n",
      "Hello Java hello\n"
     ]
    }
   ],
   "source": [
    "def wish(name,msg) :\n",
    "    print(\"Hello\",name,msg)\n",
    "wish(name=\"Python\",msg=\"Hii\")\n",
    "wish(\"Java\",\"hello\")"
   ]
  },
  {
   "cell_type": "code",
   "execution_count": 6,
   "id": "b283d889",
   "metadata": {},
   "outputs": [
    {
     "name": "stdout",
     "output_type": "stream",
     "text": [
      "sum= 10\n",
      "sum= 30\n",
      "sum= 60\n"
     ]
    }
   ],
   "source": [
    "def sum(*n):\n",
    "    total=0\n",
    "    for i in n :\n",
    "        total+=i\n",
    "    print(\"sum=\",total)\n",
    "sum(10) \n",
    "sum(20,10)\n",
    "sum(10,20,30)"
   ]
  },
  {
   "cell_type": "code",
   "execution_count": 8,
   "id": "11e6409a",
   "metadata": {},
   "outputs": [
    {
     "name": "stdout",
     "output_type": "stream",
     "text": [
      "name : Pyhton\n",
      "age : 20\n",
      "city : Ahmedabad\n",
      "hobby : study\n"
     ]
    }
   ],
   "source": [
    "def display(**kwargs):\n",
    "    for key,value in kwargs.items():\n",
    "        print(key,\":\",value)\n",
    "display(name=\"Pyhton\",age=20,city=\"Ahmedabad\",hobby=\"study\")        "
   ]
  },
  {
   "cell_type": "code",
   "execution_count": 12,
   "id": "76cd756b",
   "metadata": {},
   "outputs": [
    {
     "name": "stdout",
     "output_type": "stream",
     "text": [
      "90\n"
     ]
    }
   ],
   "source": [
    "x=60\n",
    "def fun():\n",
    "    x=90\n",
    "    print(x)\n",
    "fun()"
   ]
  },
  {
   "cell_type": "code",
   "execution_count": 13,
   "id": "2a6b2fd6",
   "metadata": {},
   "outputs": [
    {
     "name": "stdout",
     "output_type": "stream",
     "text": [
      "90\n",
      "60\n"
     ]
    }
   ],
   "source": [
    "x=60\n",
    "def fun():\n",
    "    x=90\n",
    "    print(x)\n",
    "fun()\n",
    "print(x)"
   ]
  },
  {
   "cell_type": "code",
   "execution_count": 18,
   "id": "bcde23fa",
   "metadata": {},
   "outputs": [
    {
     "name": "stdout",
     "output_type": "stream",
     "text": [
      "60\n"
     ]
    }
   ],
   "source": [
    "x=60\n",
    "def fun():\n",
    "    print(x)\n",
    "fun()"
   ]
  },
  {
   "cell_type": "code",
   "execution_count": null,
   "id": "d5a85822",
   "metadata": {},
   "outputs": [],
   "source": []
  }
 ],
 "metadata": {
  "kernelspec": {
   "display_name": "Python 3 (ipykernel)",
   "language": "python",
   "name": "python3"
  },
  "language_info": {
   "codemirror_mode": {
    "name": "ipython",
    "version": 3
   },
   "file_extension": ".py",
   "mimetype": "text/x-python",
   "name": "python",
   "nbconvert_exporter": "python",
   "pygments_lexer": "ipython3",
   "version": "3.11.5"
  }
 },
 "nbformat": 4,
 "nbformat_minor": 5
}
