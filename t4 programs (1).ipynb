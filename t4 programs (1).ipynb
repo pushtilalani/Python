{
 "cells": [
  {
   "cell_type": "code",
   "execution_count": 5,
   "metadata": {},
   "outputs": [],
   "source": [
    "import matplotlib.pyplot as plt"
   ]
  },
  {
   "cell_type": "code",
   "execution_count": 6,
   "metadata": {},
   "outputs": [
    {
     "data": {
      "image/png": "[encoded data removed]",
      "text/plain": [
       "<Figure size 432x288 with 1 Axes>"
      ]
     },
     "metadata": {},
     "output_type": "display_data"
    }
   ],
   "source": [
    "grades=['A','B','C','D']\n",
    "count=[4,12,10,2]\n",
    "colors=['lightgreen','skyblue','lightcoral','gold']\n",
    "plt.pie(count,labels = grades,colors=colors,shadow=True,radius=1.2,autopct=\"%1.2f%%\",explode=(0,0,0,0.1),startangle=140)\n",
    "plt.title(\"Student Grade History\")\n",
    "plt.legend(loc='best', bbox_to_anchor=(0.8, 0.5, 0.5, 0.5))\n",
    "plt.show()"
   ]
  },
  {
   "cell_type": "code",
   "execution_count": 7,
   "metadata": {},
   "outputs": [
    {
     "name": "stdout",
     "output_type": "stream",
     "text": [
      "Help on function pie in module matplotlib.pyplot:\n",
      "\n",
      "pie(x, explode=None, labels=None, colors=None, autopct=None, pctdistance=0.6, shadow=False, labeldistance=1.1, startangle=0, radius=1, counterclock=True, wedgeprops=None, textprops=None, center=(0, 0), frame=False, rotatelabels=False, *, normalize=None, data=None)\n",
      "    Plot a pie chart.\n",
      "    \n",
      "    Make a pie chart of array *x*.  The fractional area of each wedge is\n",
      "    given by ``x/sum(x)``.  If ``sum(x) < 1``, then the values of *x* give\n",
      "    the fractional area directly and the array will not be normalized. The\n",
      "    resulting pie will have an empty wedge of size ``1 - sum(x)``.\n",
      "    \n",
      "    The wedges are plotted counterclockwise, by default starting from the\n",
      "    x-axis.\n",
      "    \n",
      "    Parameters\n",
      "    ----------\n",
      "    x : 1D array-like\n",
      "        The wedge sizes.\n",
      "    \n",
      "    explode : array-like, default: None\n",
      "        If not *None*, is a ``len(x)`` array which specifies the fraction\n",
      "        of the radius with which to offset each wedge.\n",
      "    \n",
      "    labels : list, default: None\n",
      "        A sequence of strings providing the labels for each wedge\n",
      "    \n",
      "    colors : array-like, default: None\n",
      "        A sequence of colors through which the pie chart will cycle.  If\n",
      "        *None*, will use the colors in the currently active cycle.\n",
      "    \n",
      "    autopct : None or str or callable, default: None\n",
      "        If not *None*, is a string or function used to label the wedges\n",
      "        with their numeric value.  The label will be placed inside the\n",
      "        wedge.  If it is a format string, the label will be ``fmt % pct``.\n",
      "        If it is a function, it will be called.\n",
      "    \n",
      "    pctdistance : float, default: 0.6\n",
      "        The ratio between the center of each pie slice and the start of\n",
      "        the text generated by *autopct*.  Ignored if *autopct* is *None*.\n",
      "    \n",
      "    shadow : bool, default: False\n",
      "        Draw a shadow beneath the pie.\n",
      "    \n",
      "    normalize: None or bool, default: None\n",
      "        When *True*, always make a full pie by normalizing x so that\n",
      "        ``sum(x) == 1``. *False* makes a partial pie if ``sum(x) <= 1``\n",
      "        and raises a `ValueError` for ``sum(x) > 1``.\n",
      "    \n",
      "        When *None*, defaults to *True* if ``sum(x) >= 1`` and *False* if\n",
      "        ``sum(x) < 1``.\n",
      "    \n",
      "        Please note that the previous default value of *None* is now\n",
      "        deprecated, and the default will change to *True* in the next\n",
      "        release. Please pass ``normalize=False`` explicitly if you want to\n",
      "        draw a partial pie.\n",
      "    \n",
      "    labeldistance : float or None, default: 1.1\n",
      "        The radial distance at which the pie labels are drawn.\n",
      "        If set to ``None``, label are not drawn, but are stored for use in\n",
      "        ``legend()``\n",
      "    \n",
      "    startangle : float, default: 0 degrees\n",
      "        The angle by which the start of the pie is rotated,\n",
      "        counterclockwise from the x-axis.\n",
      "    \n",
      "    radius : float, default: 1\n",
      "        The radius of the pie.\n",
      "    \n",
      "    counterclock : bool, default: True\n",
      "        Specify fractions direction, clockwise or counterclockwise.\n",
      "    \n",
      "    wedgeprops : dict, default: None\n",
      "        Dict of arguments passed to the wedge objects making the pie.\n",
      "        For example, you can pass in ``wedgeprops = {'linewidth': 3}``\n",
      "        to set the width of the wedge border lines equal to 3.\n",
      "        For more details, look at the doc/arguments of the wedge object.\n",
      "        By default ``clip_on=False``.\n",
      "    \n",
      "    textprops : dict, default: None\n",
      "        Dict of arguments to pass to the text objects.\n",
      "    \n",
      "    center : (float, float), default: (0, 0)\n",
      "        The coordinates of the center of the chart.\n",
      "    \n",
      "    frame : bool, default: False\n",
      "        Plot axes frame with the chart if true.\n",
      "    \n",
      "    rotatelabels : bool, default: False\n",
      "        Rotate each label to the angle of the corresponding slice if true.\n",
      "    \n",
      "    Returns\n",
      "    -------\n",
      "    patches : list\n",
      "        A sequence of `matplotlib.patches.Wedge` instances\n",
      "    \n",
      "    texts : list\n",
      "        A list of the label `.Text` instances.\n",
      "    \n",
      "    autotexts : list\n",
      "        A list of `.Text` instances for the numeric labels. This will only\n",
      "        be returned if the parameter *autopct* is not *None*.\n",
      "    \n",
      "    Notes\n",
      "    -----\n",
      "    The pie chart will probably look best if the figure and axes are\n",
      "    square, or the Axes aspect is equal.\n",
      "    This method sets the aspect ratio of the axis to \"equal\".\n",
      "    The axes aspect ratio can be controlled with `.Axes.set_aspect`.\n",
      "    \n",
      "    .. note::\n",
      "        In addition to the above described arguments, this function can take\n",
      "        a *data* keyword argument. If such a *data* argument is given,\n",
      "        the following arguments can also be string ``s``, which is\n",
      "        interpreted as ``data[s]`` (unless this raises an exception):\n",
      "        *x*, *explode*, *labels*, *colors*.\n",
      "    \n",
      "        Objects passed as **data** must support item access (``data[s]``) and\n",
      "        membership test (``s in data``).\n",
      "\n"
     ]
    }
   ],
   "source": [
    "help(plt.pie)"
   ]
  },
  {
   "cell_type": "code",
   "execution_count": 8,
   "metadata": {},
   "outputs": [
    {
     "data": {
      "text/plain": [
       "Text(0.5, 1.0, 'Students per course')"
      ]
     },
     "execution_count": 8,
     "metadata": {},
     "output_type": "execute_result"
    },
    {
     "data": {
      "image/png": "[encoded data removed]",
      "text/plain": [
       "<Figure size 432x288 with 1 Axes>"
      ]
     },
     "metadata": {
      "needs_background": "light"
     },
     "output_type": "display_data"
    }
   ],
   "source": [
    "# create a bar plot of course verses number of students using data dictionary with appropriate labels.\n",
    "\n",
    "d={'c':20,'c++':15,'Java':30,'Python':35}\n",
    "plt.bar(d.keys(),d.values(),color=['r','g','b','y'])\n",
    "plt.xlabel('Courses')\n",
    "plt.ylabel('Students')\n",
    "plt.title('Students per course')"
   ]
  },
  {
   "cell_type": "code",
   "execution_count": 9,
   "metadata": {},
   "outputs": [
    {
     "name": "stdout",
     "output_type": "stream",
     "text": [
      "Help on function bar in module matplotlib.pyplot:\n",
      "\n",
      "bar(x, height, width=0.8, bottom=None, *, align='center', data=None, **kwargs)\n",
      "    Make a bar plot.\n",
      "    \n",
      "    The bars are positioned at *x* with the given *align*\\ment. Their\n",
      "    dimensions are given by *height* and *width*. The vertical baseline\n",
      "    is *bottom* (default 0).\n",
      "    \n",
      "    Many parameters can take either a single value applying to all bars\n",
      "    or a sequence of values, one for each bar.\n",
      "    \n",
      "    Parameters\n",
      "    ----------\n",
      "    x : float or array-like\n",
      "        The x coordinates of the bars. See also *align* for the\n",
      "        alignment of the bars to the coordinates.\n",
      "    \n",
      "    height : float or array-like\n",
      "        The height(s) of the bars.\n",
      "    \n",
      "    width : float or array-like, default: 0.8\n",
      "        The width(s) of the bars.\n",
      "    \n",
      "    bottom : float or array-like, default: 0\n",
      "        The y coordinate(s) of the bars bases.\n",
      "    \n",
      "    align : {'center', 'edge'}, default: 'center'\n",
      "        Alignment of the bars to the *x* coordinates:\n",
      "    \n",
      "        - 'center': Center the base on the *x* positions.\n",
      "        - 'edge': Align the left edges of the bars with the *x* positions.\n",
      "    \n",
      "        To align the bars on the right edge pass a negative *width* and\n",
      "        ``align='edge'``.\n",
      "    \n",
      "    Returns\n",
      "    -------\n",
      "    `.BarContainer`\n",
      "        Container with all the bars and optionally errorbars.\n",
      "    \n",
      "    Other Parameters\n",
      "    ----------------\n",
      "    color : color or list of color, optional\n",
      "        The colors of the bar faces.\n",
      "    \n",
      "    edgecolor : color or list of color, optional\n",
      "        The colors of the bar edges.\n",
      "    \n",
      "    linewidth : float or array-like, optional\n",
      "        Width of the bar edge(s). If 0, don't draw edges.\n",
      "    \n",
      "    tick_label : str or list of str, optional\n",
      "        The tick labels of the bars.\n",
      "        Default: None (Use default numeric labels.)\n",
      "    \n",
      "    xerr, yerr : float or array-like of shape(N,) or shape(2, N), optional\n",
      "        If not *None*, add horizontal / vertical errorbars to the bar tips.\n",
      "        The values are +/- sizes relative to the data:\n",
      "    \n",
      "        - scalar: symmetric +/- values for all bars\n",
      "        - shape(N,): symmetric +/- values for each bar\n",
      "        - shape(2, N): Separate - and + values for each bar. First row\n",
      "          contains the lower errors, the second row contains the upper\n",
      "          errors.\n",
      "        - *None*: No errorbar. (Default)\n",
      "    \n",
      "        See :doc:`/gallery/statistics/errorbar_features`\n",
      "        for an example on the usage of ``xerr`` and ``yerr``.\n",
      "    \n",
      "    ecolor : color or list of color, default: 'black'\n",
      "        The line color of the errorbars.\n",
      "    \n",
      "    capsize : float, default: :rc:`errorbar.capsize`\n",
      "       The length of the error bar caps in points.\n",
      "    \n",
      "    error_kw : dict, optional\n",
      "        Dictionary of kwargs to be passed to the `~.Axes.errorbar`\n",
      "        method. Values of *ecolor* or *capsize* defined here take\n",
      "        precedence over the independent kwargs.\n",
      "    \n",
      "    log : bool, default: False\n",
      "        If *True*, set the y-axis to be log scale.\n",
      "    \n",
      "    **kwargs : `.Rectangle` properties\n",
      "    \n",
      "    Properties:\n",
      "        agg_filter: a filter function, which takes a (m, n, 3) float array and a dpi value, and returns a (m, n, 3) array\n",
      "        alpha: float or None\n",
      "        animated: bool\n",
      "        antialiased or aa: unknown\n",
      "        capstyle: {'butt', 'round', 'projecting'}\n",
      "        clip_box: `.Bbox`\n",
      "        clip_on: bool\n",
      "        clip_path: Patch or (Path, Transform) or None\n",
      "        color: color\n",
      "        contains: unknown\n",
      "        edgecolor or ec: color or None or 'auto'\n",
      "        facecolor or fc: color or None\n",
      "        figure: `.Figure`\n",
      "        fill: bool\n",
      "        gid: str\n",
      "        hatch: {'/', '\\\\', '|', '-', '+', 'x', 'o', 'O', '.', '*'}\n",
      "        in_layout: bool\n",
      "        joinstyle: {'miter', 'round', 'bevel'}\n",
      "        label: object\n",
      "        linestyle or ls: {'-', '--', '-.', ':', '', (offset, on-off-seq), ...}\n",
      "        linewidth or lw: float or None\n",
      "        path_effects: `.AbstractPathEffect`\n",
      "        picker: None or bool or callable\n",
      "        rasterized: bool or None\n",
      "        sketch_params: (scale: float, length: float, randomness: float)\n",
      "        snap: bool or None\n",
      "        transform: `.Transform`\n",
      "        url: str\n",
      "        visible: bool\n",
      "        zorder: float\n",
      "    \n",
      "    See Also\n",
      "    --------\n",
      "    barh: Plot a horizontal bar plot.\n",
      "    \n",
      "    Notes\n",
      "    -----\n",
      "    Stacked bars can be achieved by passing individual *bottom* values per\n",
      "    bar. See :doc:`/gallery/lines_bars_and_markers/bar_stacked`.\n",
      "    \n",
      "    .. note::\n",
      "        In addition to the above described arguments, this function can take\n",
      "        a *data* keyword argument. If such a *data* argument is given,\n",
      "        every other argument can also be string ``s``, which is\n",
      "        interpreted as ``data[s]`` (unless this raises an exception).\n",
      "    \n",
      "        Objects passed as **data** must support item access (``data[s]``) and\n",
      "        membership test (``s in data``).\n",
      "\n"
     ]
    }
   ],
   "source": [
    "help(plt.bar)"
   ]
  },
  {
   "cell_type": "code",
   "execution_count": 10,
   "metadata": {},
   "outputs": [
    {
     "data": {
      "text/plain": [
       "Text(0.5, 1.0, 'Course 2')"
      ]
     },
     "execution_count": 10,
     "metadata": {},
     "output_type": "execute_result"
    },
    {
     "data": {
      "image/png": "[encoded data removed]",
      "text/plain": [
       "<Figure size 576x576 with 2 Axes>"
      ]
     },
     "metadata": {
      "needs_background": "light"
     },
     "output_type": "display_data"
    }
   ],
   "source": [
    "d={'c':20,'c++':15,'Java':30,'Python':35}\n",
    "d1={'R':40,'Ruby':25,'Julia':10,'Scala':30}\n",
    "fig,axs=plt.subplots(2,1,figsize=(8,8))\n",
    "axs[0].bar(d.keys(),d.values(),color='blue')\n",
    "axs[0].set_title(\"Course 1\")\n",
    "axs[1].bar(d1.keys(),d1.values(),color='green')\n",
    "axs[1].set_title(\"Course 2\")"
   ]
  },
  {
   "cell_type": "code",
   "execution_count": 11,
   "metadata": {},
   "outputs": [
    {
     "data": {
      "image/png": "[encoded data removed]",
      "text/plain": [
       "<Figure size 432x288 with 1 Axes>"
      ]
     },
     "metadata": {
      "needs_background": "light"
     },
     "output_type": "display_data"
    }
   ],
   "source": [
    "employee_ages = [22,45,30,59,58,56,57,20,45,43,43,50,59,34,25,19]\n",
    "bins = [0,10,20,30,40,50,60]\n",
    "plt.hist(employee_ages,bins,histtype='bar',color=None,rwidth=0.8)\n",
    "plt.xlabel('Ages')\n",
    "plt.ylabel('No.of employee')\n",
    "plt.title('Employee Histogram')\n",
    "plt.show()"
   ]
  },
  {
   "cell_type": "code",
   "execution_count": 12,
   "metadata": {},
   "outputs": [
    {
     "name": "stdout",
     "output_type": "stream",
     "text": [
      "Help on function hist in module matplotlib.pyplot:\n",
      "\n",
      "hist(x, bins=None, range=None, density=False, weights=None, cumulative=False, bottom=None, histtype='bar', align='mid', orientation='vertical', rwidth=None, log=False, color=None, label=None, stacked=False, *, data=None, **kwargs)\n",
      "    Plot a histogram.\n",
      "    \n",
      "    Compute and draw the histogram of *x*.  The return value is a tuple\n",
      "    (*n*, *bins*, *patches*) or ([*n0*, *n1*, ...], *bins*, [*patches0*,\n",
      "    *patches1*, ...]) if the input contains multiple data.  See the\n",
      "    documentation of the *weights* parameter to draw a histogram of\n",
      "    already-binned data.\n",
      "    \n",
      "    Multiple data can be provided via *x* as a list of datasets\n",
      "    of potentially different length ([*x0*, *x1*, ...]), or as\n",
      "    a 2-D ndarray in which each column is a dataset.  Note that\n",
      "    the ndarray form is transposed relative to the list form.\n",
      "    \n",
      "    Masked arrays are not supported.\n",
      "    \n",
      "    The *bins*, *range*, *weights*, and *density* parameters behave as in\n",
      "    `numpy.histogram`.\n",
      "    \n",
      "    Parameters\n",
      "    ----------\n",
      "    x : (n,) array or sequence of (n,) arrays\n",
      "        Input values, this takes either a single array or a sequence of\n",
      "        arrays which are not required to be of the same length.\n",
      "    \n",
      "    bins : int or sequence or str, default: :rc:`hist.bins`\n",
      "        If *bins* is an integer, it defines the number of equal-width bins\n",
      "        in the range.\n",
      "    \n",
      "        If *bins* is a sequence, it defines the bin edges, including the\n",
      "        left edge of the first bin and the right edge of the last bin;\n",
      "        in this case, bins may be unequally spaced.  All but the last\n",
      "        (righthand-most) bin is half-open.  In other words, if *bins* is::\n",
      "    \n",
      "            [1, 2, 3, 4]\n",
      "    \n",
      "        then the first bin is ``[1, 2)`` (including 1, but excluding 2) and\n",
      "        the second ``[2, 3)``.  The last bin, however, is ``[3, 4]``, which\n",
      "        *includes* 4.\n",
      "    \n",
      "        If *bins* is a string, it is one of the binning strategies\n",
      "        supported by `numpy.histogram_bin_edges`: 'auto', 'fd', 'doane',\n",
      "        'scott', 'stone', 'rice', 'sturges', or 'sqrt'.\n",
      "    \n",
      "    range : tuple or None, default: None\n",
      "        The lower and upper range of the bins. Lower and upper outliers\n",
      "        are ignored. If not provided, *range* is ``(x.min(), x.max())``.\n",
      "        Range has no effect if *bins* is a sequence.\n",
      "    \n",
      "        If *bins* is a sequence or *range* is specified, autoscaling\n",
      "        is based on the specified bin range instead of the\n",
      "        range of x.\n",
      "    \n",
      "    density : bool, default: False\n",
      "        If ``True``, draw and return a probability density: each bin\n",
      "        will display the bin's raw count divided by the total number of\n",
      "        counts *and the bin width*\n",
      "        (``density = counts / (sum(counts) * np.diff(bins))``),\n",
      "        so that the area under the histogram integrates to 1\n",
      "        (``np.sum(density * np.diff(bins)) == 1``).\n",
      "    \n",
      "        If *stacked* is also ``True``, the sum of the histograms is\n",
      "        normalized to 1.\n",
      "    \n",
      "    weights : (n,) array-like or None, default: None\n",
      "        An array of weights, of the same shape as *x*.  Each value in\n",
      "        *x* only contributes its associated weight towards the bin count\n",
      "        (instead of 1).  If *density* is ``True``, the weights are\n",
      "        normalized, so that the integral of the density over the range\n",
      "        remains 1.\n",
      "    \n",
      "        This parameter can be used to draw a histogram of data that has\n",
      "        already been binned, e.g. using `numpy.histogram` (by treating each\n",
      "        bin as a single point with a weight equal to its count) ::\n",
      "    \n",
      "            counts, bins = np.histogram(data)\n",
      "            plt.hist(bins[:-1], bins, weights=counts)\n",
      "    \n",
      "        (or you may alternatively use `~.bar()`).\n",
      "    \n",
      "    cumulative : bool or -1, default: False\n",
      "        If ``True``, then a histogram is computed where each bin gives the\n",
      "        counts in that bin plus all bins for smaller values. The last bin\n",
      "        gives the total number of datapoints.\n",
      "    \n",
      "        If *density* is also ``True`` then the histogram is normalized such\n",
      "        that the last bin equals 1.\n",
      "    \n",
      "        If *cumulative* is a number less than 0 (e.g., -1), the direction\n",
      "        of accumulation is reversed.  In this case, if *density* is also\n",
      "        ``True``, then the histogram is normalized such that the first bin\n",
      "        equals 1.\n",
      "    \n",
      "    bottom : array-like, scalar, or None, default: None\n",
      "        Location of the bottom of each bin, ie. bins are drawn from\n",
      "        ``bottom`` to ``bottom + hist(x, bins)`` If a scalar, the bottom\n",
      "        of each bin is shifted by the same amount. If an array, each bin\n",
      "        is shifted independently and the length of bottom must match the\n",
      "        number of bins. If None, defaults to 0.\n",
      "    \n",
      "    histtype : {'bar', 'barstacked', 'step', 'stepfilled'}, default: 'bar'\n",
      "        The type of histogram to draw.\n",
      "    \n",
      "        - 'bar' is a traditional bar-type histogram.  If multiple data\n",
      "          are given the bars are arranged side by side.\n",
      "        - 'barstacked' is a bar-type histogram where multiple\n",
      "          data are stacked on top of each other.\n",
      "        - 'step' generates a lineplot that is by default unfilled.\n",
      "        - 'stepfilled' generates a lineplot that is by default filled.\n",
      "    \n",
      "    align : {'left', 'mid', 'right'}, default: 'mid'\n",
      "        The horizontal alignment of the histogram bars.\n",
      "    \n",
      "        - 'left': bars are centered on the left bin edges.\n",
      "        - 'mid': bars are centered between the bin edges.\n",
      "        - 'right': bars are centered on the right bin edges.\n",
      "    \n",
      "    orientation : {'vertical', 'horizontal'}, default: 'vertical'\n",
      "        If 'horizontal', `~.Axes.barh` will be used for bar-type histograms\n",
      "        and the *bottom* kwarg will be the left edges.\n",
      "    \n",
      "    rwidth : float or None, default: None\n",
      "        The relative width of the bars as a fraction of the bin width.  If\n",
      "        ``None``, automatically compute the width.\n",
      "    \n",
      "        Ignored if *histtype* is 'step' or 'stepfilled'.\n",
      "    \n",
      "    log : bool, default: False\n",
      "        If ``True``, the histogram axis will be set to a log scale. If\n",
      "        *log* is ``True`` and *x* is a 1D array, empty bins will be\n",
      "        filtered out and only the non-empty ``(n, bins, patches)``\n",
      "        will be returned.\n",
      "    \n",
      "    color : color or array-like of colors or None, default: None\n",
      "        Color or sequence of colors, one per dataset.  Default (``None``)\n",
      "        uses the standard line color sequence.\n",
      "    \n",
      "    label : str or None, default: None\n",
      "        String, or sequence of strings to match multiple datasets.  Bar\n",
      "        charts yield multiple patches per dataset, but only the first gets\n",
      "        the label, so that `~.Axes.legend` will work as expected.\n",
      "    \n",
      "    stacked : bool, default: False\n",
      "        If ``True``, multiple data are stacked on top of each other If\n",
      "        ``False`` multiple data are arranged side by side if histtype is\n",
      "        'bar' or on top of each other if histtype is 'step'\n",
      "    \n",
      "    Returns\n",
      "    -------\n",
      "    n : array or list of arrays\n",
      "        The values of the histogram bins. See *density* and *weights* for a\n",
      "        description of the possible semantics.  If input *x* is an array,\n",
      "        then this is an array of length *nbins*. If input is a sequence of\n",
      "        arrays ``[data1, data2, ...]``, then this is a list of arrays with\n",
      "        the values of the histograms for each of the arrays in the same\n",
      "        order.  The dtype of the array *n* (or of its element arrays) will\n",
      "        always be float even if no weighting or normalization is used.\n",
      "    \n",
      "    bins : array\n",
      "        The edges of the bins. Length nbins + 1 (nbins left edges and right\n",
      "        edge of last bin).  Always a single array even when multiple data\n",
      "        sets are passed in.\n",
      "    \n",
      "    patches : `.BarContainer` or list of a single `.Polygon` or list of such objects\n",
      "        Container of individual artists used to create the histogram\n",
      "        or list of such containers if there are multiple input datasets.\n",
      "    \n",
      "    Other Parameters\n",
      "    ----------------\n",
      "    **kwargs\n",
      "        `~matplotlib.patches.Patch` properties\n",
      "    \n",
      "    See Also\n",
      "    --------\n",
      "    hist2d : 2D histograms\n",
      "    \n",
      "    Notes\n",
      "    -----\n",
      "    For large numbers of bins (>1000), 'step' and 'stepfilled' can be\n",
      "    significantly faster than 'bar' and 'barstacked'.\n",
      "    \n",
      "    .. note::\n",
      "        In addition to the above described arguments, this function can take\n",
      "        a *data* keyword argument. If such a *data* argument is given,\n",
      "        the following arguments can also be string ``s``, which is\n",
      "        interpreted as ``data[s]`` (unless this raises an exception):\n",
      "        *x*, *weights*.\n",
      "    \n",
      "        Objects passed as **data** must support item access (``data[s]``) and\n",
      "        membership test (``s in data``).\n",
      "\n"
     ]
    }
   ],
   "source": [
    "help(plt.hist)"
   ]
  },
  {
   "cell_type": "code",
   "execution_count": 13,
   "metadata": {},
   "outputs": [
    {
     "data": {
      "image/png": "[encoded data removed]",
      "text/plain": [
       "<Figure size 432x288 with 1 Axes>"
      ]
     },
     "metadata": {
      "needs_background": "light"
     },
     "output_type": "display_data"
    }
   ],
   "source": [
    "discount = [10,20,30,40,50]\n",
    "sales = [1000,1500,1200,1800,2000]\n",
    "\n",
    "plt.scatter(discount,sales,label='stars',color='green',marker='*',s=30)\n",
    "\n",
    "plt.xlabel('x-axis')\n",
    "plt.ylabel('y-axis')\n",
    "plt.title('My Scatter Plot!')\n",
    "plt.legend()\n",
    "plt.show()"
   ]
  },
  {
   "cell_type": "code",
   "execution_count": 14,
   "metadata": {},
   "outputs": [
    {
     "name": "stdout",
     "output_type": "stream",
     "text": [
      "Help on function scatter in module matplotlib.pyplot:\n",
      "\n",
      "scatter(x, y, s=None, c=None, marker=None, cmap=None, norm=None, vmin=None, vmax=None, alpha=None, linewidths=None, verts=<deprecated parameter>, edgecolors=None, *, plotnonfinite=False, data=None, **kwargs)\n",
      "    A scatter plot of *y* vs. *x* with varying marker size and/or color.\n",
      "    \n",
      "    Parameters\n",
      "    ----------\n",
      "    x, y : float or array-like, shape (n, )\n",
      "        The data positions.\n",
      "    \n",
      "    s : float or array-like, shape (n, ), optional\n",
      "        The marker size in points**2.\n",
      "        Default is ``rcParams['lines.markersize'] ** 2``.\n",
      "    \n",
      "    c : array-like or list of colors or color, optional\n",
      "        The marker colors. Possible values:\n",
      "    \n",
      "        - A scalar or sequence of n numbers to be mapped to colors using\n",
      "          *cmap* and *norm*.\n",
      "        - A 2-D array in which the rows are RGB or RGBA.\n",
      "        - A sequence of colors of length n.\n",
      "        - A single color format string.\n",
      "    \n",
      "        Note that *c* should not be a single numeric RGB or RGBA sequence\n",
      "        because that is indistinguishable from an array of values to be\n",
      "        colormapped. If you want to specify the same RGB or RGBA value for\n",
      "        all points, use a 2-D array with a single row.  Otherwise, value-\n",
      "        matching will have precedence in case of a size matching with *x*\n",
      "        and *y*.\n",
      "    \n",
      "        If you wish to specify a single color for all points\n",
      "        prefer the *color* keyword argument.\n",
      "    \n",
      "        Defaults to `None`. In that case the marker color is determined\n",
      "        by the value of *color*, *facecolor* or *facecolors*. In case\n",
      "        those are not specified or `None`, the marker color is determined\n",
      "        by the next color of the ``Axes``' current \"shape and fill\" color\n",
      "        cycle. This cycle defaults to :rc:`axes.prop_cycle`.\n",
      "    \n",
      "    marker : `~.markers.MarkerStyle`, default: :rc:`scatter.marker`\n",
      "        The marker style. *marker* can be either an instance of the class\n",
      "        or the text shorthand for a particular marker.\n",
      "        See :mod:`matplotlib.markers` for more information about marker\n",
      "        styles.\n",
      "    \n",
      "    cmap : str or `~matplotlib.colors.Colormap`, default: :rc:`image.cmap`\n",
      "        A `.Colormap` instance or registered colormap name. *cmap* is only\n",
      "        used if *c* is an array of floats.\n",
      "    \n",
      "    norm : `~matplotlib.colors.Normalize`, default: None\n",
      "        If *c* is an array of floats, *norm* is used to scale the color\n",
      "        data, *c*, in the range 0 to 1, in order to map into the colormap\n",
      "        *cmap*.\n",
      "        If *None*, use the default `.colors.Normalize`.\n",
      "    \n",
      "    vmin, vmax : float, default: None\n",
      "        *vmin* and *vmax* are used in conjunction with the default norm to\n",
      "        map the color array *c* to the colormap *cmap*. If None, the\n",
      "        respective min and max of the color array is used.\n",
      "        It is deprecated to use *vmin*/*vmax* when *norm* is given.\n",
      "    \n",
      "    alpha : float, default: None\n",
      "        The alpha blending value, between 0 (transparent) and 1 (opaque).\n",
      "    \n",
      "    linewidths : float or array-like, default: :rc:`lines.linewidth`\n",
      "        The linewidth of the marker edges. Note: The default *edgecolors*\n",
      "        is 'face'. You may want to change this as well.\n",
      "    \n",
      "    edgecolors : {'face', 'none', *None*} or color or sequence of color, default: :rc:`scatter.edgecolors`\n",
      "        The edge color of the marker. Possible values:\n",
      "    \n",
      "        - 'face': The edge color will always be the same as the face color.\n",
      "        - 'none': No patch boundary will be drawn.\n",
      "        - A color or sequence of colors.\n",
      "    \n",
      "        For non-filled markers, the *edgecolors* kwarg is ignored and\n",
      "        forced to 'face' internally.\n",
      "    \n",
      "    plotnonfinite : bool, default: False\n",
      "        Set to plot points with nonfinite *c*, in conjunction with\n",
      "        `~matplotlib.colors.Colormap.set_bad`.\n",
      "    \n",
      "    Returns\n",
      "    -------\n",
      "    `~matplotlib.collections.PathCollection`\n",
      "    \n",
      "    Other Parameters\n",
      "    ----------------\n",
      "    **kwargs : `~matplotlib.collections.Collection` properties\n",
      "    \n",
      "    See Also\n",
      "    --------\n",
      "    plot : To plot scatter plots when markers are identical in size and\n",
      "        color.\n",
      "    \n",
      "    Notes\n",
      "    -----\n",
      "    * The `.plot` function will be faster for scatterplots where markers\n",
      "      don't vary in size or color.\n",
      "    \n",
      "    * Any or all of *x*, *y*, *s*, and *c* may be masked arrays, in which\n",
      "      case all masks will be combined and only unmasked points will be\n",
      "      plotted.\n",
      "    \n",
      "    * Fundamentally, scatter works with 1-D arrays; *x*, *y*, *s*, and *c*\n",
      "      may be input as N-D arrays, but within scatter they will be\n",
      "      flattened. The exception is *c*, which will be flattened only if its\n",
      "      size matches the size of *x* and *y*.\n",
      "    \n",
      "    .. note::\n",
      "        In addition to the above described arguments, this function can take\n",
      "        a *data* keyword argument. If such a *data* argument is given,\n",
      "        the following arguments can also be string ``s``, which is\n",
      "        interpreted as ``data[s]`` (unless this raises an exception):\n",
      "        *x*, *y*, *s*, *linewidths*, *edgecolors*, *c*, *facecolor*, *facecolors*, *color*.\n",
      "    \n",
      "        Objects passed as **data** must support item access (``data[s]``) and\n",
      "        membership test (``s in data``).\n",
      "\n"
     ]
    }
   ],
   "source": [
    "help(plt.scatter)"
   ]
  },
  {
   "cell_type": "code",
   "execution_count": 15,
   "metadata": {},
   "outputs": [
    {
     "data": {
      "image/png": "[encoded data removed]",
      "text/plain": [
       "<Figure size 720x720 with 4 Axes>"
      ]
     },
     "metadata": {
      "needs_background": "light"
     },
     "output_type": "display_data"
    }
   ],
   "source": [
    "import matplotlib.pyplot as plt\n",
    "\n",
    "# Data for scatter plot\n",
    "x_scatter = [5, 7, 8, 7, 2, 17, 2, 9, 4, 11, 12, 9, 6]\n",
    "y_scatter = [99, 86, 87, 88, 111, 86, 103, 87, 94, 78, 77, 85, 86]\n",
    "\n",
    "# Data for horizontal bar plot\n",
    "x_bar = [\"A\", \"B\", \"C\", \"D\"]\n",
    "y_bar = [3, 8, 1, 10]\n",
    "\n",
    "# Data for histogram\n",
    "data_hist = [1, 3, 3, 3, 3, 9, 9, 5, 4, 4, 8, 8, 8, 6, 7]\n",
    "bins_hist = 4\n",
    "\n",
    "# Data for pie chart\n",
    "y_pie = [35, 25, 25, 15]\n",
    "labels_pie = ['Apple', 'Bananas', 'Cherries', 'Dates']\n",
    "\n",
    "# Subplot preparation\n",
    "plt.figure(figsize=(10, 10))\n",
    "\n",
    "# Subplot 1: Scatter Plot\n",
    "plt.subplot(2, 2, 1)\n",
    "plt.scatter(x_scatter, y_scatter, marker='*', color='black', s=60)\n",
    "plt.title('Age vs Speed of Car')\n",
    "plt.xlabel('Age of Car')\n",
    "plt.ylabel('Speed of Car')\n",
    "\n",
    "# Subplot 2: Horizontal Bar Plot\n",
    "plt.subplot(2, 2, 2)\n",
    "plt.bar(x_bar, y_bar, color='blue')\n",
    "plt.title('Name vs Selling of Car')\n",
    "plt.xlabel('Name of Car')\n",
    "plt.ylabel('Selling of Car')\n",
    "\n",
    "# Subplot 3: Histogram\n",
    "plt.subplot(2, 2, 3)\n",
    "plt.hist(data_hist, bins=bins_hist, orientation='vertical', color='green')\n",
    "plt.title('Histogram of Cars')\n",
    "plt.xlabel('Cars')\n",
    "plt.ylabel('Frequency')\n",
    "\n",
    "# Subplot 4: Pie Chart\n",
    "plt.subplot(2, 2, 4)\n",
    "plt.pie(y_pie, labels=labels_pie, autopct='%1.1f%%', explode=[0.2, 0, 0, 0], startangle=90)\n",
    "plt.title('Pie Chart')\n",
    "\n",
    "# Superior Title\n",
    "plt.suptitle('My Subplot for Cars')\n",
    "\n",
    "# Show the subplot\n",
    "plt.show()"
   ]
  },
  {
   "cell_type": "code",
   "execution_count": 16,
   "metadata": {},
   "outputs": [
    {
     "data": {
      "image/png": "[encoded data removed]",
      "text/plain": [
       "<Figure size 720x720 with 4 Axes>"
      ]
     },
     "metadata": {
      "needs_background": "light"
     },
     "output_type": "display_data"
    }
   ],
   "source": [
    "import matplotlib.pyplot as plt\n",
    "\n",
    "# data for line plot\n",
    "\n",
    "x1=[10,20,30]\n",
    "y1=[20,40,10]\n",
    "\n",
    "x2=[10,20,30]\n",
    "y2=[40,10,30]\n",
    "\n",
    "# data for scatter plot\n",
    "\n",
    "w1=[67,57.2,59.6,59.64,55.8,61.2,60.45,61,56.23,56]\n",
    "h1=[101.7,197.6,98.3,125.1,113.7,157.7,136,148.9,125.3,114.9]\n",
    "\n",
    "w2=[61.9,64,62.1,64.2,62.3,65.4,62.4,61.4,62.5,63.6]\n",
    "h2=[152.8,155.3,135.1,125.2,151.3,135,182.2,195.9,165.1,125.1]\n",
    "\n",
    "w3=[68.2,67.2,68.4,68.7,71,71.3,70.8,70,71.1,71.7]\n",
    "h3=[165.8,170.9,192.8,135.4,161.4,136.1,167.1,235.1,181.1,177.3]\n",
    "\n",
    "# data for bar\n",
    "\n",
    "x=['A','B','C','D','E','F']\n",
    "popularity=[22.2,17.6,8.8,8,7.7,6.7]\n",
    "\n",
    "# data for pie chat\n",
    "\n",
    "language=['L','M','N','O','P','Q']\n",
    "popularity=[22.2,17.6,8.8,8,7.7,6.7]\n",
    "\n",
    "# Subplot preparation\n",
    "plt.figure(figsize=(10, 10))\n",
    "\n",
    "# Subplot 1: Line Plot\n",
    "plt.subplot(2, 1, 1)\n",
    "plt.plot(x1,y1,label=\"line 1\")\n",
    "plt.plot(x2,y2,label=\"line 2\")\n",
    "\n",
    "# Subplot 2: Scatter Plot\n",
    "plt.subplot(2,3,4)\n",
    "plt.scatter(w1,h1, marker='*', color='green', s=60)\n",
    "\n",
    "\n",
    "# Subplot 3: Bar Plot\n",
    "plt.subplot(2, 3, 5)\n",
    "plt.bar(x,popularity, color=['r','g','b','y'])\n",
    "\n",
    "\n",
    "# Subplot 4: Pie Chart\n",
    "plt.subplot(2, 3, 6)\n",
    "plt.pie(popularity, labels=language, autopct='%1.1f%%', explode=(0.2,0, 0, 0,0,0), startangle=90)\n",
    "plt.show()"
   ]
  },
  {
   "cell_type": "code",
   "execution_count": 17,
   "metadata": {},
   "outputs": [
    {
     "name": "stdout",
     "output_type": "stream",
     "text": [
      "[0 1 2 3]\n",
      "0 : 0\n",
      "1 : 1\n",
      "2 : 2\n",
      "3 : 3\n",
      "0 : 4\n",
      "1 : 5\n",
      "2 : 6\n",
      "3 : 7\n"
     ]
    }
   ],
   "source": [
    "import numpy as np\n",
    "\n",
    "x=np.arange(4)\n",
    "print(x)\n",
    "\n",
    "y=np.arange(8).reshape(2,4)\n",
    "\n",
    "for a,b in np.nditer([x,y]):\n",
    "    print(\"%d : %d\" % (a,b))\n",
    "    \n",
    "    "
   ]
  },
  {
   "cell_type": "code",
   "execution_count": 18,
   "metadata": {},
   "outputs": [
    {
     "name": "stdout",
     "output_type": "stream",
     "text": [
      "82\n",
      "1916006400\n"
     ]
    },
    {
     "name": "stderr",
     "output_type": "stream",
     "text": [
      "<ipython-input-18-736e604f4a0f>:2: VisibleDeprecationWarning: Creating an ndarray from ragged nested sequences (which is a list-or-tuple of lists-or-tuples-or ndarrays with different lengths or shapes) is deprecated. If you meant to do this, you must specify 'dtype=object' when creating the ndarray\n",
      "  m=np.array([[[1,2,3,4],[4,5,6],[7,8,9],[10,11,12]]])\n"
     ]
    }
   ],
   "source": [
    "import numpy as np\n",
    "m=np.array([[[1,2,3,4],[4,5,6],[7,8,9],[10,11,12]]])\n",
    "sum=0\n",
    "product=1\n",
    "for i in range(len(m)):\n",
    "    for j in range(len(m[i])) :\n",
    "        for k in range(len(m[i][j])) :\n",
    "            sum+=m[i][j][k]\n",
    "            product*=m[i][j][k]\n",
    "print(sum)\n",
    "print(product)"
   ]
  },
  {
   "cell_type": "code",
   "execution_count": 19,
   "metadata": {},
   "outputs": [
    {
     "name": "stdout",
     "output_type": "stream",
     "text": [
      "[[ 0  1  2  3]\n",
      " [ 4  5  6  7]\n",
      " [ 8  9 10 11]\n",
      " [12 13 14 15]]\n"
     ]
    },
    {
     "data": {
      "text/plain": [
       "array([[ 5,  7],\n",
       "       [13, 15]])"
      ]
     },
     "execution_count": 19,
     "metadata": {},
     "output_type": "execute_result"
    }
   ],
   "source": [
    "import numpy as np\n",
    "m=np.arange(16).reshape(4,4)\n",
    "print(m)\n",
    "\n",
    "m[1::2,1::2]"
   ]
  },
  {
   "cell_type": "code",
   "execution_count": 20,
   "metadata": {},
   "outputs": [
    {
     "name": "stdout",
     "output_type": "stream",
     "text": [
      "[[ 0  1  2  3]\n",
      " [ 4  5  6  7]\n",
      " [ 8  9 10 11]]\n"
     ]
    },
    {
     "data": {
      "text/plain": [
       "array([[ 1,  0,  2,  3],\n",
       "       [ 5,  4,  6,  7],\n",
       "       [ 9,  8, 10, 11]])"
      ]
     },
     "execution_count": 20,
     "metadata": {},
     "output_type": "execute_result"
    }
   ],
   "source": [
    "# Swap\n",
    "import numpy as np\n",
    "a=np.arange(12).reshape(3,4)\n",
    "print(a)\n",
    "a[ : ,[0,1]] = a[ : ,[1,0]]\n",
    "a"
   ]
  },
  {
   "cell_type": "code",
   "execution_count": 21,
   "metadata": {},
   "outputs": [
    {
     "name": "stdout",
     "output_type": "stream",
     "text": [
      "Maximum score in T_20-3:\n",
      "- Batsman 1: 99\n",
      "Minimum score of YUVRAJ: 13\n",
      "Scores with total sum column:\n",
      "[[ 31.  12.  19.  53. 115.]\n",
      " [ 67.  48.  95.  83. 293.]\n",
      " [ 59.  67.  13.  59. 198.]\n",
      " [ 62.  29.  99.  88. 278.]\n",
      " [ 87.  91.  69.  76. 323.]]\n"
     ]
    }
   ],
   "source": [
    "import numpy as np\n",
    "\n",
    "# Sample scores array\n",
    "Scores = np.array([[31, 12, 19, 53],\n",
    "                   [67, 48, 95, 83],\n",
    "                   [59, 67, 13, 59],\n",
    "                   [62, 29, 99, 88],\n",
    "                   [87, 91, 69, 76]])\n",
    "\n",
    "# 1. Find the maximum score in T_20-3 (index 2)\n",
    "max_score = Scores[:, 2][0]  # Assume the first batsman has the maximum score initially\n",
    "for score in Scores[:, 2][1:]:  # Iterate through other scores\n",
    "    if score > max_score:\n",
    "        max_score = score\n",
    "\n",
    "# Find indices where the third column (index 2) is equal to the maximum score\n",
    "max_score_indices = np.where(Scores[:, 2] == max_score)\n",
    "\n",
    "# Extract the corresponding rows (batsmen) and scores\n",
    "max_score_batsmen = Scores[max_score_indices]\n",
    "max_scores = max_score_batsmen[:, 2]\n",
    "\n",
    "# Print the maximum score(s) and corresponding batsmen\n",
    "print(\"Maximum score in T_20-3:\")\n",
    "for i, score in enumerate(max_scores):\n",
    "    print(f\"- Batsman {i+1}: {score}\")\n",
    "\n",
    "# 2. Find the minimum score of YUVRAJ (assuming YUVRAJ is batsman 3)\n",
    "yuvraj_score = Scores[2, 2]  # Access score of batsman 3 (index 2) in T_20-3 (index 2)\n",
    "min_score = yuvraj_score\n",
    "\n",
    "for score in Scores[:, 2]:  # Iterate through all scores in column 2 (T_20-3)\n",
    "    if score < min_score:\n",
    "        min_score = score\n",
    "\n",
    "print(f\"Minimum score of YUVRAJ: {min_score}\")\n",
    "\n",
    "# 3. Add an extra column with the sum of all 4 T20 Matches' scores\n",
    "import numpy as np\n",
    "\n",
    "# Sample scores array\n",
    "Scores = np.array([[31, 12, 19, 53],\n",
    "                   [67, 48, 95, 83],\n",
    "                   [59, 67, 13, 59],\n",
    "                   [62, 29, 99, 88],\n",
    "                   [87, 91, 69, 76]])\n",
    "\n",
    "\n",
    "\n",
    "# Calculate the sum of all 4 T20 Matches' scores for each batsman\n",
    "total_scores = np.zeros(Scores.shape[0])\n",
    "for i in range(Scores.shape[0]):\n",
    "    total_score = 0\n",
    "    for j in range(Scores.shape[1]):\n",
    "        total_score += Scores[i, j]\n",
    "    total_scores[i] = total_score\n",
    "\n",
    "# Create a new array with an extra column using concatenate\n",
    "new_Scores = np.concatenate((Scores, total_scores[:, np.newaxis]), axis=1)\n",
    "\n",
    "# Print the scores with the total sum column\n",
    "print(\"Scores with total sum column:\")\n",
    "print(new_Scores)"
   ]
  },
  {
   "cell_type": "code",
   "execution_count": 22,
   "metadata": {},
   "outputs": [
    {
     "name": "stdout",
     "output_type": "stream",
     "text": [
      "(array([1, 3, 4], dtype=int64),)\n"
     ]
    }
   ],
   "source": [
    "# find the indices where the elements of two arrays match .the output should be an array of indices.\n",
    "\n",
    "import numpy as np\n",
    "\n",
    "a1=np.array([1,2,3,4,5])\n",
    "a2=np.array([3,2,8,4,5])\n",
    "matching = np.where(a1==a2)\n",
    "print(matching)"
   ]
  },
  {
   "cell_type": "code",
   "execution_count": 23,
   "metadata": {},
   "outputs": [
    {
     "name": "stdout",
     "output_type": "stream",
     "text": [
      "[[[ 0  1  2  3]\n",
      "  [ 4  5  6  7]\n",
      "  [ 8  9 10 11]]\n",
      "\n",
      " [[12 13 14 15]\n",
      "  [16 17 18 19]\n",
      "  [20 21 22 23]]]\n"
     ]
    },
    {
     "data": {
      "text/plain": [
       "array([[[18, 19],\n",
       "        [22, 23]]])"
      ]
     },
     "execution_count": 23,
     "metadata": {},
     "output_type": "execute_result"
    }
   ],
   "source": [
    "import numpy as np\n",
    "\n",
    "a=np.arange(24).reshape(2,3,4)\n",
    "print(a)\n",
    "a[1: ,1:3,2:4]"
   ]
  },
  {
   "cell_type": "code",
   "execution_count": 24,
   "metadata": {},
   "outputs": [
    {
     "name": "stdout",
     "output_type": "stream",
     "text": [
      "Result of addition (simplified) : 1/2\n",
      "1/2\n"
     ]
    }
   ],
   "source": [
    "# implement a python class for handling fractions.1 define an abstract class fraction base with three abstract methods  -\n",
    "# add, simplify and str 2. implement concate that inherit from fraction based class, your implementation should handle\n",
    "# addition and simplication and also demonstrate adding them , simplifying the result and printing out .\n",
    "\n",
    "\n",
    "from abc import ABC, abstractmethod\n",
    "\n",
    "class FractionBase(ABC) :\n",
    "    @abstractmethod\n",
    "    def __add__(self,other) :\n",
    "        pass\n",
    "    def simplify(self) :\n",
    "        pass\n",
    "    def __str__(self) :\n",
    "        pass\n",
    "class Fraction(FractionBase) :\n",
    "    def __init__(self,num,den) :\n",
    "        self.num=num\n",
    "        self.den=den\n",
    "    def __add__(self,other) :\n",
    "        num = self.num*other.den+other.num*self.den\n",
    "        den = self.den*other.den\n",
    "        return Fraction(num,den)\n",
    "    def simplify(self) :\n",
    "        def findgcd(a,b) :\n",
    "            while b:\n",
    "                a,b=b,a%b\n",
    "            return a\n",
    "    \n",
    "        gcdval = findgcd(self.num,self.den) \n",
    "        simpnum=self.num//gcdval\n",
    "        simpden=self.den//gcdval\n",
    "        return Fraction(simpnum,simpden)\n",
    "    def __str__(self) :\n",
    "        return f\"{self.num}/{self.den}\"\n",
    "frac1 = Fraction(25,100)\n",
    "frac2 = Fraction(1,4)\n",
    "frac_sum = frac1 + frac2\n",
    "simplified_sum = frac_sum.simplify()\n",
    "print(f\"Result of addition (simplified) : {simplified_sum}\")\n",
    "print(frac_sum.simplify())"
   ]
  },
  {
   "cell_type": "code",
   "execution_count": 25,
   "metadata": {},
   "outputs": [
    {
     "name": "stdout",
     "output_type": "stream",
     "text": [
      "The gcd of 100 and 400 is : 100\n"
     ]
    }
   ],
   "source": [
    "# Python code to demonstrate naive\n",
    "# method to compute gcd ( recursion )\n",
    "\n",
    "def hcfnaive(a, b):\n",
    "\tif(b == 0):\n",
    "\t\treturn abs(a)\n",
    "\telse:\n",
    "\t\treturn hcfnaive(b, a % b)\n",
    "\n",
    "a = 100\n",
    "b = 400\n",
    "\n",
    "# prints 12\n",
    "print(\"The gcd of 100 and 400 is : \", end=\"\")\n",
    "print(hcfnaive(100, 400))\n"
   ]
  },
  {
   "cell_type": "code",
   "execution_count": 30,
   "metadata": {},
   "outputs": [
    {
     "name": "stdout",
     "output_type": "stream",
     "text": [
      "New Money :  121 rupees and 0 paise\n",
      "Price per item :  502 rupees and 50 paise\n",
      "Total Amount for  5 items: 502 rupees and 50 paise\n"
     ]
    }
   ],
   "source": [
    "# implement a python class money to handle monetary values rupees and paisa. It should have a constructor with \n",
    "# rupees and paisa . It should overload addition operator to add two money objects.It should overload substraction operator \n",
    "# to subtract two money objects.comparing two money objects with overloading greater then equal to operator.it should have\n",
    "# calculate_total with quantity as a parameter which should calculate the total amount based on quantity.it should calculate\n",
    "# price per item given total amount paid and number of units bought.\n",
    "\n",
    "class money :\n",
    "    def __init__(self,rupees,paise) :\n",
    "        self.rupees=rupees\n",
    "        self.paise=paise\n",
    "    def __add__(self,other) :   \n",
    "        newrupees=self.rupees+other.rupees\n",
    "        newpaise=self.paise+other.paise\n",
    "        if newpaise>=100 :\n",
    "            newrupees+=1\n",
    "            newpaise-=100\n",
    "        return money(newrupees,newpaise)    \n",
    "    def __sub__(self,other) :   \n",
    "        newrupees=self.rupees-other.rupees\n",
    "        newpaise=self.paise-other.paise\n",
    "        if newpaise<0 :\n",
    "            newrupees-=1\n",
    "            newpaise+=100\n",
    "        return money(newrupees,newpaise)\n",
    "    def __gre__(self,other) :\n",
    "        total=self.rupees*100+self.paise\n",
    "        total1=other.rupees*100+other.paise\n",
    "        return total1>=total2\n",
    "    def __str__(self) :\n",
    "        return f\"{self.rupees} rupees and {self.paise} paise\"\n",
    "    def calculate_total(self,quantity) :\n",
    "        total_rupees=self.rupees*quantity\n",
    "        total_paise = self.paise*quantity\n",
    "        total_rupees+=total_paise//100\n",
    "        total_paise %= 100\n",
    "        return money(total_rupees,total_paise)\n",
    "    def price_per_item(self,total_amount,quantity) :\n",
    "        total = total_amount.rupees*100 + total_amount.paise\n",
    "        price_per_item=total/quantity\n",
    "        return money(int(price_per_item//100),int(price_per_item%100))\n",
    "    \n",
    "initial_money = money(100,50)\n",
    "additional_money=money(20,50)\n",
    "new_money=initial_money+additional_money\n",
    "print(\"New Money : \" ,new_money)\n",
    "\n",
    "quantity = 5\n",
    "\n",
    "price_per_item = initial_money.calculate_total(quantity)\n",
    "print(\"Price per item : \" , price_per_item)\n",
    "\n",
    "total_amount=initial_money.calculate_total(quantity)\n",
    "print(\"Total Amount for \",quantity,\"items:\",total_amount)"
   ]
  },
  {
   "cell_type": "code",
   "execution_count": null,
   "metadata": {},
   "outputs": [],
   "source": []
  }
 ],
 "metadata": {
  "kernelspec": {
   "display_name": "Python 3",
   "language": "python",
   "name": "python3"
  },
  "language_info": {
   "codemirror_mode": {
    "name": "ipython",
    "version": 3
   },
   "file_extension": ".py",
   "mimetype": "text/x-python",
   "name": "python",
   "nbconvert_exporter": "python",
   "pygments_lexer": "ipython3",
   "version": "3.8.5"
  }
 },
 "nbformat": 4,
 "nbformat_minor": 4
}
