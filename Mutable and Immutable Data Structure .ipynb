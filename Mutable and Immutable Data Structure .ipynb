{
 "cells": [
  {
   "cell_type": "code",
   "execution_count": 8,
   "id": "b6f36c97",
   "metadata": {},
   "outputs": [
    {
     "name": "stdout",
     "output_type": "stream",
     "text": [
      "p\n",
      "n\n"
     ]
    }
   ],
   "source": [
    "s='python'\n",
    "print(s[0])\n",
    "print(s[-1])"
   ]
  },
  {
   "cell_type": "code",
   "execution_count": 28,
   "id": "6f4b0f3a",
   "metadata": {},
   "outputs": [
    {
     "name": "stdout",
     "output_type": "stream",
     "text": [
      "e\n",
      "o\n"
     ]
    },
    {
     "ename": "IndexError",
     "evalue": "string index out of range",
     "output_type": "error",
     "traceback": [
      "\u001b[1;31m---------------------------------------------------------------------------\u001b[0m",
      "\u001b[1;31mIndexError\u001b[0m                                Traceback (most recent call last)",
      "Cell \u001b[1;32mIn[28], line 4\u001b[0m\n\u001b[0;32m      2\u001b[0m \u001b[38;5;28mprint\u001b[39m(s[\u001b[38;5;241m-\u001b[39m\u001b[38;5;241m5\u001b[39m])\n\u001b[0;32m      3\u001b[0m \u001b[38;5;28mprint\u001b[39m(s[\u001b[38;5;241m4\u001b[39m])\n\u001b[1;32m----> 4\u001b[0m \u001b[38;5;28mprint\u001b[39m(s[\u001b[38;5;241m50\u001b[39m])\n",
      "\u001b[1;31mIndexError\u001b[0m: string index out of range"
     ]
    }
   ],
   "source": [
    "s='heeloo'\n",
    "print(s[-5])\n",
    "print(s[4])\n",
    "print(s[50])"
   ]
  },
  {
   "cell_type": "code",
   "execution_count": 33,
   "id": "b08d7983",
   "metadata": {},
   "outputs": [
    {
     "ename": "NameError",
     "evalue": "name 's' is not defined",
     "output_type": "error",
     "traceback": [
      "\u001b[1;31m---------------------------------------------------------------------------\u001b[0m",
      "\u001b[1;31mNameError\u001b[0m                                 Traceback (most recent call last)",
      "Cell \u001b[1;32mIn[33], line 4\u001b[0m\n\u001b[0;32m      2\u001b[0m \u001b[38;5;28mid\u001b[39m(s)\n\u001b[0;32m      3\u001b[0m \u001b[38;5;28;01mdel\u001b[39;00m(s)            \u001b[38;5;66;03m# Delete String\u001b[39;00m\n\u001b[1;32m----> 4\u001b[0m \u001b[38;5;28mprint\u001b[39m(s)\n",
      "\u001b[1;31mNameError\u001b[0m: name 's' is not defined"
     ]
    }
   ],
   "source": [
    "s='hi'\n",
    "id(s)\n",
    "del(s)            # Delete String\n",
    "print(s)"
   ]
  },
  {
   "cell_type": "markdown",
   "id": "9a568f36",
   "metadata": {},
   "source": [
    "# Slicing"
   ]
  },
  {
   "cell_type": "code",
   "execution_count": 34,
   "id": "f6eac964",
   "metadata": {},
   "outputs": [
    {
     "name": "stdout",
     "output_type": "stream",
     "text": [
      "Hello \n",
      "l\n",
      "llo World\n",
      "Hello Worl\n",
      "Hello World\n",
      "Hello W\n",
      "llo Worl\n",
      "Hello Wor\n",
      "ello Worl\n",
      "\n",
      "Hlo\n",
      "l\n",
      "leH\n",
      "HlWl\n",
      "HloWrd\n",
      "HlW\n",
      "loWr\n",
      "HloWr\n",
      "eoo\n",
      "dr\n",
      "World\n",
      "\n",
      "\n",
      "Hello World\n",
      "dlroW olleH\n"
     ]
    }
   ],
   "source": [
    "s='Hello World'\n",
    "\n",
    "print(s[0:6]) # [start:stop(exclusive)] \n",
    "print(s[2:3]) \n",
    "print(s[2: ]) \n",
    "print(s[ :-1]) \n",
    "print(s[ : ]) \n",
    "print(s[0:7]) \n",
    "print(s[2:-1]) \n",
    "print(s[ :-2]) \n",
    "print(s[1:-1]) \n",
    "print(s[-1:-5])\n",
    "\n",
    "print(s[0:6:2]) # [start:stop:step] \n",
    "print(s[2:4:2]) \n",
    "print(s[2: :-1]) \n",
    "print(s[ : -1:3]) \n",
    "print(s[ : :2]) \n",
    "print(s[0:7:3]) \n",
    "print(s[2:-1:2]) \n",
    "print(s[ :-2:2]) \n",
    "print(s[1:-1:3]) \n",
    "print(s[-1:-5:-2]) \n",
    "print(s[-5: : ]) \n",
    "print('\\n') \n",
    "print('Hello World') \n",
    "print(s[: :-1]) # Reversing the String"
   ]
  },
  {
   "cell_type": "code",
   "execution_count": 21,
   "id": "0ba84c77",
   "metadata": {},
   "outputs": [
    {
     "data": {
      "text/plain": [
       "['__add__',\n",
       " '__class__',\n",
       " '__contains__',\n",
       " '__delattr__',\n",
       " '__dir__',\n",
       " '__doc__',\n",
       " '__eq__',\n",
       " '__format__',\n",
       " '__ge__',\n",
       " '__getattribute__',\n",
       " '__getitem__',\n",
       " '__getnewargs__',\n",
       " '__getstate__',\n",
       " '__gt__',\n",
       " '__hash__',\n",
       " '__init__',\n",
       " '__init_subclass__',\n",
       " '__iter__',\n",
       " '__le__',\n",
       " '__len__',\n",
       " '__lt__',\n",
       " '__mod__',\n",
       " '__mul__',\n",
       " '__ne__',\n",
       " '__new__',\n",
       " '__reduce__',\n",
       " '__reduce_ex__',\n",
       " '__repr__',\n",
       " '__rmod__',\n",
       " '__rmul__',\n",
       " '__setattr__',\n",
       " '__sizeof__',\n",
       " '__str__',\n",
       " '__subclasshook__',\n",
       " 'capitalize',\n",
       " 'casefold',\n",
       " 'center',\n",
       " 'count',\n",
       " 'encode',\n",
       " 'endswith',\n",
       " 'expandtabs',\n",
       " 'find',\n",
       " 'format',\n",
       " 'format_map',\n",
       " 'index',\n",
       " 'isalnum',\n",
       " 'isalpha',\n",
       " 'isascii',\n",
       " 'isdecimal',\n",
       " 'isdigit',\n",
       " 'isidentifier',\n",
       " 'islower',\n",
       " 'isnumeric',\n",
       " 'isprintable',\n",
       " 'isspace',\n",
       " 'istitle',\n",
       " 'isupper',\n",
       " 'join',\n",
       " 'ljust',\n",
       " 'lower',\n",
       " 'lstrip',\n",
       " 'maketrans',\n",
       " 'partition',\n",
       " 'removeprefix',\n",
       " 'removesuffix',\n",
       " 'replace',\n",
       " 'rfind',\n",
       " 'rindex',\n",
       " 'rjust',\n",
       " 'rpartition',\n",
       " 'rsplit',\n",
       " 'rstrip',\n",
       " 'split',\n",
       " 'splitlines',\n",
       " 'startswith',\n",
       " 'strip',\n",
       " 'swapcase',\n",
       " 'title',\n",
       " 'translate',\n",
       " 'upper',\n",
       " 'zfill']"
      ]
     },
     "execution_count": 21,
     "metadata": {},
     "output_type": "execute_result"
    }
   ],
   "source": [
    "s='pyhton'\n",
    "dir(s)"
   ]
  },
  {
   "cell_type": "code",
   "execution_count": 26,
   "id": "2baa69ca",
   "metadata": {},
   "outputs": [
    {
     "name": "stdout",
     "output_type": "stream",
     "text": [
      "hello pyhton\n",
      "hello hello hello \n"
     ]
    }
   ],
   "source": [
    "s='hello '\n",
    "t='pyhton'\n",
    "print(s+t)\n",
    "print(s*3)"
   ]
  },
  {
   "cell_type": "markdown",
   "id": "c5ce432c",
   "metadata": {},
   "source": [
    "# Common Functions"
   ]
  },
  {
   "cell_type": "code",
   "execution_count": 35,
   "id": "a0fe3021",
   "metadata": {},
   "outputs": [
    {
     "name": "stdout",
     "output_type": "stream",
     "text": [
      "h\n",
      "y\n",
      "['h', 'n', 'o', 'p', 't', 'y']\n",
      "6\n"
     ]
    }
   ],
   "source": [
    "s='python'\n",
    "print(min(s))\n",
    "print(max(s))\n",
    "print(sorted(s))\n",
    "print(len(s))             # Starts with indexing = 1"
   ]
  },
  {
   "cell_type": "code",
   "execution_count": 36,
   "id": "bd22cae5",
   "metadata": {},
   "outputs": [
    {
     "name": "stdout",
     "output_type": "stream",
     "text": [
      "Help on built-in function min in module builtins:\n",
      "\n",
      "min(...)\n",
      "    min(iterable, *[, default=obj, key=func]) -> value\n",
      "    min(arg1, arg2, *args, *[, key=func]) -> value\n",
      "    \n",
      "    With a single iterable argument, return its smallest item. The\n",
      "    default keyword-only argument specifies an object to return if\n",
      "    the provided iterable is empty.\n",
      "    With two or more arguments, return the smallest argument.\n",
      "\n"
     ]
    }
   ],
   "source": [
    "help(min)"
   ]
  },
  {
   "cell_type": "code",
   "execution_count": 37,
   "id": "9b75fdc9",
   "metadata": {},
   "outputs": [
    {
     "name": "stdout",
     "output_type": "stream",
     "text": [
      "Help on built-in function len in module builtins:\n",
      "\n",
      "len(obj, /)\n",
      "    Return the number of items in a container.\n",
      "\n"
     ]
    }
   ],
   "source": [
    "help(len)"
   ]
  },
  {
   "cell_type": "code",
   "execution_count": 38,
   "id": "90176fcf",
   "metadata": {},
   "outputs": [
    {
     "name": "stdout",
     "output_type": "stream",
     "text": [
      "Help on built-in function sorted in module builtins:\n",
      "\n",
      "sorted(iterable, /, *, key=None, reverse=False)\n",
      "    Return a new list containing all items from the iterable in ascending order.\n",
      "    \n",
      "    A custom key function can be supplied to customize the sort order, and the\n",
      "    reverse flag can be set to request the result in descending order.\n",
      "\n"
     ]
    }
   ],
   "source": [
    "help(sorted)"
   ]
  },
  {
   "cell_type": "code",
   "execution_count": 39,
   "id": "56ce9aca",
   "metadata": {},
   "outputs": [
    {
     "name": "stdout",
     "output_type": "stream",
     "text": [
      "Help on built-in function max in module builtins:\n",
      "\n",
      "max(...)\n",
      "    max(iterable, *[, default=obj, key=func]) -> value\n",
      "    max(arg1, arg2, *args, *[, key=func]) -> value\n",
      "    \n",
      "    With a single iterable argument, return its biggest item. The\n",
      "    default keyword-only argument specifies an object to return if\n",
      "    the provided iterable is empty.\n",
      "    With two or more arguments, return the largest argument.\n",
      "\n"
     ]
    }
   ],
   "source": [
    "help(max)"
   ]
  },
  {
   "cell_type": "code",
   "execution_count": 42,
   "id": "54381aa4",
   "metadata": {},
   "outputs": [
    {
     "name": "stdout",
     "output_type": "stream",
     "text": [
      "\n",
      "\n",
      "\thi\n",
      "5\n"
     ]
    }
   ],
   "source": [
    "s='\\n\\n\\thi'\n",
    "print(s)\n",
    "print(len(s))"
   ]
  },
  {
   "cell_type": "markdown",
   "id": "585901e6",
   "metadata": {},
   "source": [
    "# Enumerate"
   ]
  },
  {
   "cell_type": "code",
   "execution_count": 44,
   "id": "dc33c62b",
   "metadata": {},
   "outputs": [
    {
     "name": "stdout",
     "output_type": "stream",
     "text": [
      "Index is = 0 and value is = p\n",
      "Index is = 1 and value is = y\n",
      "Index is = 2 and value is = t\n",
      "Index is = 3 and value is = h\n",
      "Index is = 4 and value is = o\n",
      "Index is = 5 and value is = n\n"
     ]
    }
   ],
   "source": [
    "s='python' \n",
    "for index,value in enumerate(s) :\n",
    "    print(f\"Index is = {index} and value is = {value}\")"
   ]
  },
  {
   "cell_type": "markdown",
   "id": "97e65e3d",
   "metadata": {},
   "source": [
    "# Methods"
   ]
  },
  {
   "cell_type": "code",
   "execution_count": 46,
   "id": "36258ca9",
   "metadata": {},
   "outputs": [
    {
     "name": "stdout",
     "output_type": "stream",
     "text": [
      "Hello\n",
      "\n",
      "Hello\n",
      "hello\n",
      "HELLO\n",
      "False\n",
      "False\n",
      "hELLO\n"
     ]
    }
   ],
   "source": [
    "s=\"Hello\" \n",
    "print(s + '\\n' )\n",
    "print(s.capitalize())\n",
    "print(s.lower())\n",
    "print(s.upper()) \n",
    "print(s.islower())\n",
    "print(s.isupper())\n",
    "print(s.swapcase())"
   ]
  },
  {
   "cell_type": "code",
   "execution_count": 47,
   "id": "f3809122",
   "metadata": {},
   "outputs": [
    {
     "name": "stdout",
     "output_type": "stream",
     "text": [
      "Python\n"
     ]
    }
   ],
   "source": [
    "s='pYtHoN'\n",
    "print(s.capitalize())"
   ]
  },
  {
   "cell_type": "code",
   "execution_count": 48,
   "id": "e0ae68b4",
   "metadata": {},
   "outputs": [
    {
     "name": "stdout",
     "output_type": "stream",
     "text": [
      "Help on built-in function count:\n",
      "\n",
      "count(...) method of builtins.str instance\n",
      "    S.count(sub[, start[, end]]) -> int\n",
      "    \n",
      "    Return the number of non-overlapping occurrences of substring sub in\n",
      "    string S[start:end].  Optional arguments start and end are\n",
      "    interpreted as in slice notation.\n",
      "\n"
     ]
    }
   ],
   "source": [
    "s='python is a programming language'\n",
    "help(s.count)"
   ]
  },
  {
   "cell_type": "code",
   "execution_count": 51,
   "id": "7bdb6da8",
   "metadata": {},
   "outputs": [
    {
     "name": "stdout",
     "output_type": "stream",
     "text": [
      "0\n",
      "0\n",
      "0\n"
     ]
    },
    {
     "ename": "TypeError",
     "evalue": "count() takes at most 3 arguments (4 given)",
     "output_type": "error",
     "traceback": [
      "\u001b[1;31m---------------------------------------------------------------------------\u001b[0m",
      "\u001b[1;31mTypeError\u001b[0m                                 Traceback (most recent call last)",
      "Cell \u001b[1;32mIn[51], line 5\u001b[0m\n\u001b[0;32m      3\u001b[0m \u001b[38;5;28mprint\u001b[39m(s\u001b[38;5;241m.\u001b[39mcount(\u001b[38;5;124m'\u001b[39m\u001b[38;5;124m0\u001b[39m\u001b[38;5;124m'\u001b[39m,\u001b[38;5;241m5\u001b[39m))\n\u001b[0;32m      4\u001b[0m \u001b[38;5;28mprint\u001b[39m(s\u001b[38;5;241m.\u001b[39mcount(\u001b[38;5;124m'\u001b[39m\u001b[38;5;124m0\u001b[39m\u001b[38;5;124m'\u001b[39m,\u001b[38;5;241m5\u001b[39m,\u001b[38;5;241m9\u001b[39m))\n\u001b[1;32m----> 5\u001b[0m \u001b[38;5;28mprint\u001b[39m(s\u001b[38;5;241m.\u001b[39mcount(\u001b[38;5;124m'\u001b[39m\u001b[38;5;124m0\u001b[39m\u001b[38;5;124m'\u001b[39m,\u001b[38;5;241m5\u001b[39m,\u001b[38;5;241m9\u001b[39m,\u001b[38;5;241m3\u001b[39m))\n",
      "\u001b[1;31mTypeError\u001b[0m: count() takes at most 3 arguments (4 given)"
     ]
    }
   ],
   "source": [
    "s='python is a programming language'\n",
    "print(s.count('0'))\n",
    "print(s.count('0',5))\n",
    "print(s.count('0',5,9))\n",
    "print(s.count('0',5,9,3))"
   ]
  },
  {
   "cell_type": "code",
   "execution_count": 52,
   "id": "1928b5a6",
   "metadata": {},
   "outputs": [
    {
     "name": "stdout",
     "output_type": "stream",
     "text": [
      "Help on built-in function find:\n",
      "\n",
      "find(...) method of builtins.str instance\n",
      "    S.find(sub[, start[, end]]) -> int\n",
      "    \n",
      "    Return the lowest index in S where substring sub is found,\n",
      "    such that sub is contained within S[start:end].  Optional\n",
      "    arguments start and end are interpreted as in slice notation.\n",
      "    \n",
      "    Return -1 on failure.\n",
      "\n"
     ]
    }
   ],
   "source": [
    "s='python is a programming language'\n",
    "help(s.find)"
   ]
  },
  {
   "cell_type": "code",
   "execution_count": 56,
   "id": "31cc928e",
   "metadata": {},
   "outputs": [
    {
     "name": "stdout",
     "output_type": "stream",
     "text": [
      "0\n",
      "-1\n"
     ]
    }
   ],
   "source": [
    "s='python is a programming language'\n",
    "print(s.find('p',0,1))\n",
    "print(s.find('z'))            # Character not found so (-1)"
   ]
  },
  {
   "cell_type": "code",
   "execution_count": 57,
   "id": "4a37209b",
   "metadata": {},
   "outputs": [
    {
     "name": "stdout",
     "output_type": "stream",
     "text": [
      "Help on built-in function index:\n",
      "\n",
      "index(...) method of builtins.str instance\n",
      "    S.index(sub[, start[, end]]) -> int\n",
      "    \n",
      "    Return the lowest index in S where substring sub is found,\n",
      "    such that sub is contained within S[start:end].  Optional\n",
      "    arguments start and end are interpreted as in slice notation.\n",
      "    \n",
      "    Raises ValueError when the substring is not found.\n",
      "\n"
     ]
    }
   ],
   "source": [
    "s='python is a programming language'\n",
    "help(s.index)"
   ]
  },
  {
   "cell_type": "code",
   "execution_count": 58,
   "id": "4b7acd47",
   "metadata": {},
   "outputs": [
    {
     "name": "stdout",
     "output_type": "stream",
     "text": [
      "0\n"
     ]
    },
    {
     "ename": "ValueError",
     "evalue": "substring not found",
     "output_type": "error",
     "traceback": [
      "\u001b[1;31m---------------------------------------------------------------------------\u001b[0m",
      "\u001b[1;31mValueError\u001b[0m                                Traceback (most recent call last)",
      "Cell \u001b[1;32mIn[58], line 3\u001b[0m\n\u001b[0;32m      1\u001b[0m s\u001b[38;5;241m=\u001b[39m\u001b[38;5;124m'\u001b[39m\u001b[38;5;124mpython is a programming language\u001b[39m\u001b[38;5;124m'\u001b[39m\n\u001b[0;32m      2\u001b[0m \u001b[38;5;28mprint\u001b[39m(s\u001b[38;5;241m.\u001b[39mindex(\u001b[38;5;124m'\u001b[39m\u001b[38;5;124mp\u001b[39m\u001b[38;5;124m'\u001b[39m,\u001b[38;5;241m0\u001b[39m,\u001b[38;5;241m1\u001b[39m))\n\u001b[1;32m----> 3\u001b[0m \u001b[38;5;28mprint\u001b[39m(s\u001b[38;5;241m.\u001b[39mindex(\u001b[38;5;124m'\u001b[39m\u001b[38;5;124mz\u001b[39m\u001b[38;5;124m'\u001b[39m))\n",
      "\u001b[1;31mValueError\u001b[0m: substring not found"
     ]
    }
   ],
   "source": [
    "s='python is a programming language'\n",
    "print(s.index('p',0,1))\n",
    "print(s.index('z')) "
   ]
  },
  {
   "cell_type": "code",
   "execution_count": 60,
   "id": "f8e164d8",
   "metadata": {},
   "outputs": [
    {
     "name": "stdout",
     "output_type": "stream",
     "text": [
      "True\n"
     ]
    }
   ],
   "source": [
    "s='pyhton'\n",
    "print(s.isalpha())"
   ]
  },
  {
   "cell_type": "code",
   "execution_count": 61,
   "id": "c225b2f4",
   "metadata": {},
   "outputs": [
    {
     "name": "stdout",
     "output_type": "stream",
     "text": [
      "False\n"
     ]
    }
   ],
   "source": [
    "s='pyhton123'\n",
    "print(s.isalpha())"
   ]
  },
  {
   "cell_type": "code",
   "execution_count": 62,
   "id": "e7ecb268",
   "metadata": {},
   "outputs": [
    {
     "name": "stdout",
     "output_type": "stream",
     "text": [
      "True\n"
     ]
    }
   ],
   "source": [
    "s='1234'\n",
    "print(s.isnumeric())"
   ]
  },
  {
   "cell_type": "code",
   "execution_count": 63,
   "id": "8f576134",
   "metadata": {},
   "outputs": [
    {
     "name": "stdout",
     "output_type": "stream",
     "text": [
      "False\n"
     ]
    }
   ],
   "source": [
    "s='hi_1234'\n",
    "print(s.isnumeric())"
   ]
  },
  {
   "cell_type": "code",
   "execution_count": 65,
   "id": "1ec697df",
   "metadata": {},
   "outputs": [
    {
     "name": "stdout",
     "output_type": "stream",
     "text": [
      "True\n"
     ]
    }
   ],
   "source": [
    "s='hello5678'\n",
    "print(s.isalnum())"
   ]
  },
  {
   "cell_type": "code",
   "execution_count": 64,
   "id": "f2dddf57",
   "metadata": {},
   "outputs": [
    {
     "name": "stdout",
     "output_type": "stream",
     "text": [
      "False\n"
     ]
    }
   ],
   "source": [
    "s='hello world'\n",
    "print(s.isalnum())"
   ]
  },
  {
   "cell_type": "code",
   "execution_count": 68,
   "id": "9525e53f",
   "metadata": {},
   "outputs": [
    {
     "name": "stdout",
     "output_type": "stream",
     "text": [
      "Help on built-in function replace:\n",
      "\n",
      "replace(old, new, count=-1, /) method of builtins.str instance\n",
      "    Return a copy with all occurrences of substring old replaced by new.\n",
      "    \n",
      "      count\n",
      "        Maximum number of occurrences to replace.\n",
      "        -1 (the default value) means replace all occurrences.\n",
      "    \n",
      "    If the optional argument count is given, only the first count occurrences are\n",
      "    replaced.\n",
      "\n"
     ]
    }
   ],
   "source": [
    "s='python is a programming language'\n",
    "help(s.replace)"
   ]
  },
  {
   "cell_type": "code",
   "execution_count": 70,
   "id": "f2a9c538",
   "metadata": {},
   "outputs": [
    {
     "name": "stdout",
     "output_type": "stream",
     "text": [
      "python is a programming language\n",
      "\n",
      "hython is a hrogramming language\n"
     ]
    }
   ],
   "source": [
    "s='python is a programming language'\n",
    "print(s + \"\\n\")\n",
    "print(s.replace('p','h'))"
   ]
  },
  {
   "cell_type": "code",
   "execution_count": 71,
   "id": "bb15b55e",
   "metadata": {},
   "outputs": [
    {
     "name": "stdout",
     "output_type": "stream",
     "text": [
      "Help on built-in function split:\n",
      "\n",
      "split(sep=None, maxsplit=-1) method of builtins.str instance\n",
      "    Return a list of the substrings in the string, using sep as the separator string.\n",
      "    \n",
      "      sep\n",
      "        The separator used to split the string.\n",
      "    \n",
      "        When set to None (the default value), will split on any whitespace\n",
      "        character (including \\\\n \\\\r \\\\t \\\\f and spaces) and will discard\n",
      "        empty strings from the result.\n",
      "      maxsplit\n",
      "        Maximum number of splits (starting from the left).\n",
      "        -1 (the default value) means no limit.\n",
      "    \n",
      "    Note, str.split() is mainly useful for data that has been intentionally\n",
      "    delimited.  With natural text that includes punctuation, consider using\n",
      "    the regular expression module.\n",
      "\n"
     ]
    }
   ],
   "source": [
    "s='python is a programming language'\n",
    "help(s.split)"
   ]
  },
  {
   "cell_type": "code",
   "execution_count": 75,
   "id": "bd859318",
   "metadata": {},
   "outputs": [
    {
     "name": "stdout",
     "output_type": "stream",
     "text": [
      "['python', 'is', 'a', 'programming', 'language']\n",
      "['python is ', ' progr', 'mming l', 'ngu', 'ge']\n",
      "['python is ', ' programming language']\n",
      "['python is ', ' progr', 'mming l', 'nguage']\n"
     ]
    }
   ],
   "source": [
    "s='python is a programming language'\n",
    "print(s.split())                         #  Return a list of the substrings in the string\n",
    "print(s.split('a'))\n",
    "print(s.split('a',1))\n",
    "print(s.split('a',3))"
   ]
  },
  {
   "cell_type": "code",
   "execution_count": 76,
   "id": "9dddc89f",
   "metadata": {},
   "outputs": [
    {
     "name": "stdout",
     "output_type": "stream",
     "text": [
      "Help on built-in function join:\n",
      "\n",
      "join(iterable, /) method of builtins.str instance\n",
      "    Concatenate any number of strings.\n",
      "    \n",
      "    The string whose method is called is inserted in between each given string.\n",
      "    The result is returned as a new string.\n",
      "    \n",
      "    Example: '.'.join(['ab', 'pq', 'rs']) -> 'ab.pq.rs'\n",
      "\n"
     ]
    }
   ],
   "source": [
    "s='python is a programming language'\n",
    "help(s.join)"
   ]
  },
  {
   "cell_type": "code",
   "execution_count": 78,
   "id": "06710a25",
   "metadata": {},
   "outputs": [
    {
     "name": "stdout",
     "output_type": "stream",
     "text": [
      "hello*python\n"
     ]
    }
   ],
   "source": [
    "s='python is a programming language'\n",
    "print('*'.join(['hello','python']))"
   ]
  },
  {
   "cell_type": "code",
   "execution_count": 79,
   "id": "d6d2423b",
   "metadata": {},
   "outputs": [
    {
     "name": "stdout",
     "output_type": "stream",
     "text": [
      "Help on built-in function strip:\n",
      "\n",
      "strip(chars=None, /) method of builtins.str instance\n",
      "    Return a copy of the string with leading and trailing whitespace removed.\n",
      "    \n",
      "    If chars is given and not None, remove characters in chars instead.\n",
      "\n"
     ]
    }
   ],
   "source": [
    "s='python is a programming language'\n",
    "help(s.strip)"
   ]
  },
  {
   "cell_type": "code",
   "execution_count": 80,
   "id": "f41b2031",
   "metadata": {},
   "outputs": [
    {
     "name": "stdout",
     "output_type": "stream",
     "text": [
      "python is a programming language\n"
     ]
    }
   ],
   "source": [
    "s='python is a programming language'\n",
    "print(s.strip())"
   ]
  },
  {
   "cell_type": "code",
   "execution_count": 2,
   "id": "110ab63a",
   "metadata": {},
   "outputs": [
    {
     "name": "stdout",
     "output_type": "stream",
     "text": [
      "Hello\n",
      "Hello  \n",
      "   Hello\n"
     ]
    }
   ],
   "source": [
    "s=\"   Hello  \"\n",
    "print(s.strip())\n",
    "print(s.lstrip())\n",
    "print(s.rstrip())"
   ]
  },
  {
   "cell_type": "markdown",
   "id": "c7a6ccb6",
   "metadata": {},
   "source": [
    "# MCQs"
   ]
  },
  {
   "cell_type": "code",
   "execution_count": 2,
   "id": "1cfc580b",
   "metadata": {},
   "outputs": [
    {
     "name": "stdout",
     "output_type": "stream",
     "text": [
      "str1\n"
     ]
    }
   ],
   "source": [
    "str1=\"6/4\"\n",
    "print(\"str1\")"
   ]
  },
  {
   "cell_type": "code",
   "execution_count": 3,
   "id": "f4f3ec36",
   "metadata": {},
   "outputs": [
    {
     "name": "stdout",
     "output_type": "stream",
     "text": [
      "gramm\n"
     ]
    }
   ],
   "source": [
    "str1=\"Programming\"\n",
    "print(str1[3:8])"
   ]
  },
  {
   "cell_type": "code",
   "execution_count": 4,
   "id": "ba90aa33",
   "metadata": {},
   "outputs": [
    {
     "data": {
      "text/plain": [
       "0"
      ]
     },
     "execution_count": 4,
     "metadata": {},
     "output_type": "execute_result"
    }
   ],
   "source": [
    "str1=\"save paper,save trees\"\n",
    "str1.find(\"save\")"
   ]
  },
  {
   "cell_type": "code",
   "execution_count": 6,
   "id": "1cc78d7a",
   "metadata": {},
   "outputs": [
    {
     "name": "stdout",
     "output_type": "stream",
     "text": [
      "Aryan\n"
     ]
    }
   ],
   "source": [
    "str1=\"Vishv,Aryan,Devarsh\"\n",
    "print(str1[-13:-8])"
   ]
  },
  {
   "cell_type": "code",
   "execution_count": 7,
   "id": "ae8f4e67",
   "metadata": {},
   "outputs": [
    {
     "name": "stdout",
     "output_type": "stream",
     "text": [
      "13\n"
     ]
    }
   ],
   "source": [
    "str1=\"LJ University\"\n",
    "print(len(str1))"
   ]
  },
  {
   "cell_type": "code",
   "execution_count": 8,
   "id": "b91d655d",
   "metadata": {},
   "outputs": [
    {
     "data": {
      "text/plain": [
       "'cdef'"
      ]
     },
     "execution_count": 8,
     "metadata": {},
     "output_type": "execute_result"
    }
   ],
   "source": [
    "\"abcdef\"[2:8]"
   ]
  },
  {
   "cell_type": "code",
   "execution_count": 9,
   "id": "5c4bb6a4",
   "metadata": {},
   "outputs": [
    {
     "name": "stdout",
     "output_type": "stream",
     "text": [
      "newline\n"
     ]
    }
   ],
   "source": [
    "print('new' 'line')"
   ]
  },
  {
   "cell_type": "code",
   "execution_count": 10,
   "id": "96337380",
   "metadata": {},
   "outputs": [
    {
     "data": {
      "text/plain": [
       "'dlrow olleh'"
      ]
     },
     "execution_count": 10,
     "metadata": {},
     "output_type": "execute_result"
    }
   ],
   "source": [
    "str1=\"hello world\"\n",
    "str1[::-1]"
   ]
  },
  {
   "cell_type": "code",
   "execution_count": 11,
   "id": "3a99f02a",
   "metadata": {},
   "outputs": [
    {
     "name": "stdout",
     "output_type": "stream",
     "text": [
      "['ab', 'cd']\n"
     ]
    }
   ],
   "source": [
    "x = ['ab', 'cd']\n",
    "for i in x: \n",
    "    i.upper()\n",
    "print(x)"
   ]
  },
  {
   "cell_type": "code",
   "execution_count": 12,
   "id": "4c0aae7f",
   "metadata": {},
   "outputs": [
    {
     "ename": "AttributeError",
     "evalue": "'int' object has no attribute 'upper'",
     "output_type": "error",
     "traceback": [
      "\u001b[1;31m---------------------------------------------------------------------------\u001b[0m",
      "\u001b[1;31mAttributeError\u001b[0m                            Traceback (most recent call last)",
      "Cell \u001b[1;32mIn[12], line 3\u001b[0m\n\u001b[0;32m      1\u001b[0m x \u001b[38;5;241m=\u001b[39m \u001b[38;5;124m'\u001b[39m\u001b[38;5;124mabcd\u001b[39m\u001b[38;5;124m'\u001b[39m\n\u001b[0;32m      2\u001b[0m \u001b[38;5;28;01mfor\u001b[39;00m i \u001b[38;5;129;01min\u001b[39;00m \u001b[38;5;28mrange\u001b[39m(\u001b[38;5;28mlen\u001b[39m(x)):\n\u001b[1;32m----> 3\u001b[0m     i\u001b[38;5;241m.\u001b[39mupper()\n\u001b[0;32m      4\u001b[0m \u001b[38;5;28mprint\u001b[39m (x)\n",
      "\u001b[1;31mAttributeError\u001b[0m: 'int' object has no attribute 'upper'"
     ]
    }
   ],
   "source": [
    "x = 'abcd'\n",
    "for i in range(len(x)):\n",
    "    i.upper()\n",
    "print (x)"
   ]
  },
  {
   "cell_type": "code",
   "execution_count": 13,
   "id": "d4ad56cb",
   "metadata": {},
   "outputs": [
    {
     "name": "stdout",
     "output_type": "stream",
     "text": [
      "True\n"
     ]
    }
   ],
   "source": [
    "print('abcd1234'.isalnum())"
   ]
  },
  {
   "cell_type": "code",
   "execution_count": 14,
   "id": "3deb9004",
   "metadata": {},
   "outputs": [
    {
     "name": "stdout",
     "output_type": "stream",
     "text": [
      "6\n"
     ]
    }
   ],
   "source": [
    "str1 = \"my isname isisis jameis isis bond\"\n",
    "sub = \"is\"\n",
    "print(str1.count(sub, 5))"
   ]
  },
  {
   "cell_type": "code",
   "execution_count": 15,
   "id": "3502ed42",
   "metadata": {},
   "outputs": [
    {
     "name": "stdout",
     "output_type": "stream",
     "text": [
      "True\n",
      "False\n"
     ]
    }
   ],
   "source": [
    "print(\"John\" > \"Jhon\")\n",
    "print(\"Emma\" < \"Emm\")"
   ]
  },
  {
   "cell_type": "code",
   "execution_count": 16,
   "id": "eaeedefc",
   "metadata": {},
   "outputs": [
    {
     "name": "stdout",
     "output_type": "stream",
     "text": [
      "WelcomLJIET\n"
     ]
    }
   ],
   "source": [
    "str1 = 'Welcome'\n",
    "print (str1[:6] + 'LJIET')"
   ]
  },
  {
   "cell_type": "code",
   "execution_count": 17,
   "id": "f0d61046",
   "metadata": {},
   "outputs": [
    {
     "name": "stdout",
     "output_type": "stream",
     "text": [
      "JIE LJIET T LJIE LJIE\n"
     ]
    }
   ],
   "source": [
    "str1 = \"LJIET\"\n",
    "print(str1[1:4], str1[:5], str1[4:], str1[0:-1], str1[:-1])"
   ]
  },
  {
   "cell_type": "code",
   "execution_count": 18,
   "id": "b3481648",
   "metadata": {},
   "outputs": [
    {
     "name": "stdout",
     "output_type": "stream",
     "text": [
      "<class 'str'>\n"
     ]
    }
   ],
   "source": [
    "aTuple = (\"Orange\")\n",
    "print (type(aTuple))"
   ]
  },
  {
   "cell_type": "code",
   "execution_count": 23,
   "id": "1f07716f",
   "metadata": {},
   "outputs": [
    {
     "data": {
      "text/plain": [
       "30"
      ]
     },
     "execution_count": 23,
     "metadata": {},
     "output_type": "execute_result"
    }
   ],
   "source": [
    "def practice(tup): \n",
    "    a, b, c = tup \n",
    "    return b\n",
    "aTuple = \"Orange\", 30, \"White\"\n",
    "practice(aTuple)"
   ]
  },
  {
   "cell_type": "code",
   "execution_count": 24,
   "id": "5d375ed7",
   "metadata": {},
   "outputs": [
    {
     "data": {
      "text/plain": [
       "(2, 4)"
      ]
     },
     "execution_count": 24,
     "metadata": {},
     "output_type": "execute_result"
    }
   ],
   "source": [
    "t=(1,2,4,3)\n",
    "t[1:3]"
   ]
  },
  {
   "cell_type": "code",
   "execution_count": 25,
   "id": "f01dc6bd",
   "metadata": {},
   "outputs": [
    {
     "data": {
      "text/plain": [
       "(4, 6, 4, 6)"
      ]
     },
     "execution_count": 25,
     "metadata": {},
     "output_type": "execute_result"
    }
   ],
   "source": [
    "t = (4,6)\n",
    "2*t"
   ]
  },
  {
   "cell_type": "code",
   "execution_count": 26,
   "id": "bb6df023",
   "metadata": {},
   "outputs": [
    {
     "name": "stdout",
     "output_type": "stream",
     "text": [
      "(2, 3, 4, 2, 3, 4)\n"
     ]
    }
   ],
   "source": [
    "tuple1=(2,3,4)\n",
    "tuple3=tuple1*2\n",
    "print(tuple3)"
   ]
  },
  {
   "cell_type": "code",
   "execution_count": 31,
   "id": "1f041a05",
   "metadata": {},
   "outputs": [
    {
     "data": {
      "text/plain": [
       "False"
      ]
     },
     "execution_count": 31,
     "metadata": {},
     "output_type": "execute_result"
    }
   ],
   "source": [
    "t1 = (1, 2, 4, 3)\n",
    "t2 = (1, 2, 3, 4)\n",
    "t1 < t2"
   ]
  },
  {
   "cell_type": "code",
   "execution_count": 32,
   "id": "c81ee0c1",
   "metadata": {},
   "outputs": [
    {
     "ename": "SyntaxError",
     "evalue": "Missing parentheses in call to 'print'. Did you mean print(...)? (2445813614.py, line 3)",
     "output_type": "error",
     "traceback": [
      "\u001b[1;36m  Cell \u001b[1;32mIn[32], line 3\u001b[1;36m\u001b[0m\n\u001b[1;33m    print len(my_tuple)\u001b[0m\n\u001b[1;37m    ^\u001b[0m\n\u001b[1;31mSyntaxError\u001b[0m\u001b[1;31m:\u001b[0m Missing parentheses in call to 'print'. Did you mean print(...)?\n"
     ]
    }
   ],
   "source": [
    "my_tuple = (1, 2, 3, 4)\n",
    "my_tuple.append( (1,2,3) )\n",
    "print len(my_tuple)"
   ]
  },
  {
   "cell_type": "code",
   "execution_count": 39,
   "id": "85414eb5",
   "metadata": {},
   "outputs": [
    {
     "ename": "AttributeError",
     "evalue": "'tuple' object has no attribute 'append'",
     "output_type": "error",
     "traceback": [
      "\u001b[1;31m---------------------------------------------------------------------------\u001b[0m",
      "\u001b[1;31mAttributeError\u001b[0m                            Traceback (most recent call last)",
      "Cell \u001b[1;32mIn[39], line 2\u001b[0m\n\u001b[0;32m      1\u001b[0m my_tuple \u001b[38;5;241m=\u001b[39m (\u001b[38;5;241m1\u001b[39m, \u001b[38;5;241m2\u001b[39m, \u001b[38;5;241m3\u001b[39m, \u001b[38;5;241m4\u001b[39m)\n\u001b[1;32m----> 2\u001b[0m my_tuple\u001b[38;5;241m.\u001b[39mappend( (\u001b[38;5;241m1\u001b[39m,\u001b[38;5;241m2\u001b[39m,\u001b[38;5;241m3\u001b[39m) )\n\u001b[0;32m      3\u001b[0m \u001b[38;5;28mprint\u001b[39m (\u001b[38;5;28mlen\u001b[39m(my_tuple))\n",
      "\u001b[1;31mAttributeError\u001b[0m: 'tuple' object has no attribute 'append'"
     ]
    }
   ],
   "source": [
    "my_tuple = (1, 2, 3, 4)\n",
    "my_tuple.append( (1,2,3) )\n",
    "print (len(my_tuple))"
   ]
  },
  {
   "cell_type": "code",
   "execution_count": 41,
   "id": "f1ca6264",
   "metadata": {},
   "outputs": [
    {
     "data": {
      "text/plain": [
       "'CheckCheckCheck'"
      ]
     },
     "execution_count": 41,
     "metadata": {},
     "output_type": "execute_result"
    }
   ],
   "source": [
    "a=(\"Check\")*3 \n",
    "a"
   ]
  },
  {
   "cell_type": "code",
   "execution_count": 50,
   "id": "34cd4fd5",
   "metadata": {},
   "outputs": [
    {
     "data": {
      "text/plain": [
       "12"
      ]
     },
     "execution_count": 50,
     "metadata": {},
     "output_type": "execute_result"
    }
   ],
   "source": [
    "a=(2,3,4) \n",
    "sum(a,3)"
   ]
  },
  {
   "cell_type": "code",
   "execution_count": 51,
   "id": "501ce6a7",
   "metadata": {},
   "outputs": [
    {
     "data": {
      "text/plain": [
       "(0, 1)"
      ]
     },
     "execution_count": 51,
     "metadata": {},
     "output_type": "execute_result"
    }
   ],
   "source": [
    "a=(0,1,2,3,4)\n",
    "b=slice(0,2) \n",
    "a[b]"
   ]
  },
  {
   "cell_type": "code",
   "execution_count": 52,
   "id": "464a054c",
   "metadata": {},
   "outputs": [
    {
     "name": "stdout",
     "output_type": "stream",
     "text": [
      "()\n"
     ]
    }
   ],
   "source": [
    "tupl=(\"annie\",\"hena\",\"sid\")\n",
    "print(tupl[-3:0])"
   ]
  },
  {
   "cell_type": "code",
   "execution_count": 53,
   "id": "7d74780c",
   "metadata": {},
   "outputs": [
    {
     "name": "stdout",
     "output_type": "stream",
     "text": [
      "0\n"
     ]
    }
   ],
   "source": [
    "tupl=()\n",
    "tupl1=tupl*2\n",
    "print(len(tupl1))"
   ]
  },
  {
   "cell_type": "code",
   "execution_count": 56,
   "id": "5acf51e9",
   "metadata": {},
   "outputs": [
    {
     "name": "stdout",
     "output_type": "stream",
     "text": [
      "([2, 1], 'abc', 0, 9)\n"
     ]
    }
   ],
   "source": [
    "tupl=([2,3],\"abc\",0,9)\n",
    "tupl[0][1]=1\n",
    "print(tupl)"
   ]
  },
  {
   "cell_type": "code",
   "execution_count": 57,
   "id": "dfd9a4a1",
   "metadata": {},
   "outputs": [
    {
     "name": "stdout",
     "output_type": "stream",
     "text": [
      "(30, 40, 50) (10, 20, 30, 40) (40, 50, 60, 70, 80)\n"
     ]
    }
   ],
   "source": [
    "aTuple = (10, 20, 30, 40, 50, 60, 70, 80)\n",
    "print(aTuple[2:5], aTuple[:4], aTuple[3:])"
   ]
  },
  {
   "cell_type": "code",
   "execution_count": 58,
   "id": "3697d7eb",
   "metadata": {},
   "outputs": [
    {
     "name": "stdout",
     "output_type": "stream",
     "text": [
      "1 4 8 "
     ]
    }
   ],
   "source": [
    "t = (1, 2, 4, 3, 8, 9)\n",
    "for i in range(0, len(t), 2): \n",
    "    print(t[i],end=\" \")"
   ]
  },
  {
   "cell_type": "code",
   "execution_count": 59,
   "id": "8f31dc90",
   "metadata": {},
   "outputs": [
    {
     "name": "stdout",
     "output_type": "stream",
     "text": [
      "False\n"
     ]
    }
   ],
   "source": [
    "t1 = (1,2)\n",
    "t2 = (2,1)\n",
    "x = (t1 == t2)\n",
    "print(x)"
   ]
  },
  {
   "cell_type": "code",
   "execution_count": 60,
   "id": "9c4a4192",
   "metadata": {},
   "outputs": [
    {
     "data": {
      "text/plain": [
       "2"
      ]
     },
     "execution_count": 60,
     "metadata": {},
     "output_type": "execute_result"
    }
   ],
   "source": [
    "str1=\"Hello World! Hello Hello\"\n",
    "str1.count(\"Hello\",12,25)"
   ]
  },
  {
   "cell_type": "code",
   "execution_count": 61,
   "id": "430cc8e9",
   "metadata": {},
   "outputs": [
    {
     "name": "stdout",
     "output_type": "stream",
     "text": [
      "-1\n"
     ]
    },
    {
     "ename": "ValueError",
     "evalue": "substring not found",
     "output_type": "error",
     "traceback": [
      "\u001b[1;31m---------------------------------------------------------------------------\u001b[0m",
      "\u001b[1;31mValueError\u001b[0m                                Traceback (most recent call last)",
      "Cell \u001b[1;32mIn[61], line 3\u001b[0m\n\u001b[0;32m      1\u001b[0m a\u001b[38;5;241m=\u001b[39m\u001b[38;5;124m\"\u001b[39m\u001b[38;5;124mHello Welcome to the Python\u001b[39m\u001b[38;5;124m\"\u001b[39m\n\u001b[0;32m      2\u001b[0m \u001b[38;5;28mprint\u001b[39m(a\u001b[38;5;241m.\u001b[39mfind(\u001b[38;5;124m\"\u001b[39m\u001b[38;5;124mz\u001b[39m\u001b[38;5;124m\"\u001b[39m))\n\u001b[1;32m----> 3\u001b[0m \u001b[38;5;28mprint\u001b[39m(a\u001b[38;5;241m.\u001b[39mindex(\u001b[38;5;124m\"\u001b[39m\u001b[38;5;124mz\u001b[39m\u001b[38;5;124m\"\u001b[39m))\n",
      "\u001b[1;31mValueError\u001b[0m: substring not found"
     ]
    }
   ],
   "source": [
    "a=\"Hello Welcome to the Python\"\n",
    "print(a.find(\"z\"))\n",
    "print(a.index(\"z\"))"
   ]
  },
  {
   "cell_type": "code",
   "execution_count": 62,
   "id": "a48dddfa",
   "metadata": {},
   "outputs": [
    {
     "name": "stdout",
     "output_type": "stream",
     "text": [
      "7\n"
     ]
    }
   ],
   "source": [
    "t1=(1,2,3,4,5,6,7)\n",
    "print(t1[t1[1]+t1[-4]])"
   ]
  },
  {
   "cell_type": "code",
   "execution_count": 63,
   "id": "b78c7f74",
   "metadata": {},
   "outputs": [
    {
     "name": "stdout",
     "output_type": "stream",
     "text": [
      "0\n"
     ]
    }
   ],
   "source": [
    "t=()\n",
    "t1=t*10\n",
    "print(len(t1))"
   ]
  },
  {
   "cell_type": "code",
   "execution_count": 64,
   "id": "f9d1a935",
   "metadata": {},
   "outputs": [
    {
     "name": "stdout",
     "output_type": "stream",
     "text": [
      "5 8\n"
     ]
    }
   ],
   "source": [
    "def tup(T):\n",
    "    print(T[T.index(5)], end = \" \") \n",
    "    print(T[T[T[6]-3]-6])\n",
    "T = (1, 2, 3, 4, 5, 6, 7, 8)\n",
    "tup(T)"
   ]
  },
  {
   "cell_type": "code",
   "execution_count": 65,
   "id": "d6065941",
   "metadata": {},
   "outputs": [
    {
     "name": "stdout",
     "output_type": "stream",
     "text": [
      "Th*is is$ nothi&&ng b#ut excerc(is)e\n"
     ]
    }
   ],
   "source": [
    "s=\"Th*is is$ nothi&&ng b#ut excerc(is)e\"\n",
    "change=str.maketrans(\"(\",\",\",\"@#$%^&*_-)\")\n",
    "s.translate(change)\n",
    "print(s)"
   ]
  },
  {
   "cell_type": "code",
   "execution_count": 67,
   "id": "d4b40cfe",
   "metadata": {},
   "outputs": [
    {
     "name": "stdout",
     "output_type": "stream",
     "text": [
      "LLAB\n"
     ]
    }
   ],
   "source": [
    "s = \"ball\"\n",
    "r = \"\"\n",
    "for i in s:\n",
    "    r = i.upper() + r\n",
    "print(r)"
   ]
  },
  {
   "cell_type": "code",
   "execution_count": 68,
   "id": "15fb710d",
   "metadata": {},
   "outputs": [
    {
     "name": "stdout",
     "output_type": "stream",
     "text": [
      "AomyDIAIe myINDIA\n"
     ]
    }
   ],
   "source": [
    "s = 'I love my INDIA'\n",
    "print(s[-1]+s[3:4]+s[7:9]+s[-3:-1]+s[-1:-3:-1]+s[5:9]+s[10:] )"
   ]
  },
  {
   "cell_type": "code",
   "execution_count": 69,
   "id": "98232947",
   "metadata": {},
   "outputs": [
    {
     "data": {
      "text/plain": [
       "tuple"
      ]
     },
     "execution_count": 69,
     "metadata": {},
     "output_type": "execute_result"
    }
   ],
   "source": [
    "m = (1,[1,2],3,4)\n",
    "m[1][1] = 5\n",
    "type(m)"
   ]
  },
  {
   "cell_type": "code",
   "execution_count": 70,
   "id": "c6017759",
   "metadata": {},
   "outputs": [
    {
     "name": "stdout",
     "output_type": "stream",
     "text": [
      "g$o$l$"
     ]
    }
   ],
   "source": [
    "s=\"blog\"\n",
    "for i in range(-1,-len(s),-1):\n",
    "    print(s[i],end=\"$\")"
   ]
  },
  {
   "cell_type": "code",
   "execution_count": 71,
   "id": "f3fd7de1",
   "metadata": {},
   "outputs": [
    {
     "name": "stdout",
     "output_type": "stream",
     "text": [
      "['A', 'B', 'C#D#E']\n"
     ]
    }
   ],
   "source": [
    "print(\"A#B#C#D#E\".split(\"#\",2))"
   ]
  },
  {
   "cell_type": "code",
   "execution_count": 72,
   "id": "680750b7",
   "metadata": {},
   "outputs": [
    {
     "name": "stdout",
     "output_type": "stream",
     "text": [
      "pto"
     ]
    }
   ],
   "source": [
    "for i in range (len(\"python\"),12,2): \n",
    "    print(\"python\"[i-6],end=\"\")"
   ]
  },
  {
   "cell_type": "code",
   "execution_count": 73,
   "id": "bcc17474",
   "metadata": {},
   "outputs": [
    {
     "data": {
      "text/plain": [
       "()"
      ]
     },
     "execution_count": 73,
     "metadata": {},
     "output_type": "execute_result"
    }
   ],
   "source": [
    "t=(1,2,4,3,6,8,4)\n",
    "t[1:-1:-1]"
   ]
  },
  {
   "cell_type": "markdown",
   "id": "1b4edeb3",
   "metadata": {},
   "source": [
    "# String Maketrans()\n"
   ]
  },
  {
   "cell_type": "code",
   "execution_count": 1,
   "id": "31c67409",
   "metadata": {},
   "outputs": [
    {
     "name": "stdout",
     "output_type": "stream",
     "text": [
      "Th3s 3s 1 str3ng f5nct34n\n",
      "{97: 49, 101: 50, 105: 51, 111: 52, 117: 53}\n"
     ]
    }
   ],
   "source": [
    "intab=\"aeiou\"\n",
    "outtab=\"12345\"\n",
    "my=\"This is a string function\"\n",
    "table=my.maketrans(intab,outtab)\n",
    "print(my.translate(table))\n",
    "print(table)"
   ]
  },
  {
   "cell_type": "code",
   "execution_count": 4,
   "id": "39bca938",
   "metadata": {},
   "outputs": [
    {
     "name": "stdout",
     "output_type": "stream",
     "text": [
      "hi what is python\n"
     ]
    },
    {
     "data": {
      "text/plain": [
       "'!\"#$%&\\'()*+,-./:;<=>?@[\\\\]^_`{|}~'"
      ]
     },
     "execution_count": 4,
     "metadata": {},
     "output_type": "execute_result"
    }
   ],
   "source": [
    "import string\n",
    "a_string=\"!hi, wha?t $is p[y]thon?\"\n",
    "new_string=a_string.translate(a_string.maketrans('','',string.punctuation))\n",
    "print(new_string)\n",
    "string.punctuation"
   ]
  },
  {
   "cell_type": "code",
   "execution_count": 5,
   "id": "693dda0a",
   "metadata": {},
   "outputs": [
    {
     "name": "stdout",
     "output_type": "stream",
     "text": [
      "!\"#$%&'()*+,-./:;<=>?@[\\]^_`{|}~\n"
     ]
    }
   ],
   "source": [
    "print(string.punctuation)"
   ]
  },
  {
   "cell_type": "code",
   "execution_count": 26,
   "id": "5448c9d1",
   "metadata": {},
   "outputs": [
    {
     "name": "stdout",
     "output_type": "stream",
     "text": [
      "This is a p[]ython program\n"
     ]
    }
   ],
   "source": [
    " x=\"This is a$ p[]ython pr?ogram\"           #  without importing string\n",
    "table=x.maketrans(' ',' ','$?')\n",
    "z=x.translate(table)\n",
    "print(z)"
   ]
  },
  {
   "cell_type": "code",
   "execution_count": 6,
   "id": "3e834249",
   "metadata": {},
   "outputs": [
    {
     "name": "stdout",
     "output_type": "stream",
     "text": [
      "<class 'tuple'>\n"
     ]
    }
   ],
   "source": [
    "x=()\n",
    "print(type(x))"
   ]
  },
  {
   "cell_type": "code",
   "execution_count": 7,
   "id": "7142b6f5",
   "metadata": {},
   "outputs": [
    {
     "name": "stdout",
     "output_type": "stream",
     "text": [
      "7\n"
     ]
    }
   ],
   "source": [
    "x=(7)\n",
    "print(x)"
   ]
  },
  {
   "cell_type": "code",
   "execution_count": 19,
   "id": "88f37e8d",
   "metadata": {},
   "outputs": [
    {
     "data": {
      "text/plain": [
       "tuple"
      ]
     },
     "execution_count": 19,
     "metadata": {},
     "output_type": "execute_result"
    }
   ],
   "source": [
    "x=(3,)\n",
    "type(x)"
   ]
  },
  {
   "cell_type": "code",
   "execution_count": 12,
   "id": "88955821",
   "metadata": {},
   "outputs": [
    {
     "name": "stdout",
     "output_type": "stream",
     "text": [
      "(1, 2, 3)\n"
     ]
    }
   ],
   "source": [
    "x=1,2,3\n",
    "print(x)\n",
    "a,b,c=1,2,3"
   ]
  },
  {
   "cell_type": "code",
   "execution_count": 18,
   "id": "0d4c1982",
   "metadata": {},
   "outputs": [
    {
     "name": "stdout",
     "output_type": "stream",
     "text": [
      "hi\n",
      "9\n",
      "2\n",
      "('hi', 4, 6, 8)\n",
      "('hi', [1, 100, 3], 4, 5, 6, 7, 8, 9)\n"
     ]
    }
   ],
   "source": [
    "x=('hi',[1,2,3],4,5,6,7,8,9)\n",
    "print(x[0])\n",
    "print(x[-1])\n",
    "print(x[1][1])\n",
    "print(x[0: :2])\n",
    "# x[0]='python'   ----  TypeError: 'tuple' object does not support item assignment\n",
    "x[1][1]=100\n",
    "print(x)"
   ]
  },
  {
   "cell_type": "code",
   "execution_count": 24,
   "id": "0fc9d498",
   "metadata": {},
   "outputs": [
    {
     "name": "stdout",
     "output_type": "stream",
     "text": [
      "Help on tuple object:\n",
      "\n",
      "class tuple(object)\n",
      " |  tuple(iterable=(), /)\n",
      " |  \n",
      " |  Built-in immutable sequence.\n",
      " |  \n",
      " |  If no argument is given, the constructor returns an empty tuple.\n",
      " |  If iterable is specified the tuple is initialized from iterable's items.\n",
      " |  \n",
      " |  If the argument is a tuple, the return value is the same object.\n",
      " |  \n",
      " |  Built-in subclasses:\n",
      " |      asyncgen_hooks\n",
      " |      UnraisableHookArgs\n",
      " |  \n",
      " |  Methods defined here:\n",
      " |  \n",
      " |  __add__(self, value, /)\n",
      " |      Return self+value.\n",
      " |  \n",
      " |  __contains__(self, key, /)\n",
      " |      Return key in self.\n",
      " |  \n",
      " |  __eq__(self, value, /)\n",
      " |      Return self==value.\n",
      " |  \n",
      " |  __ge__(self, value, /)\n",
      " |      Return self>=value.\n",
      " |  \n",
      " |  __getattribute__(self, name, /)\n",
      " |      Return getattr(self, name).\n",
      " |  \n",
      " |  __getitem__(self, key, /)\n",
      " |      Return self[key].\n",
      " |  \n",
      " |  __getnewargs__(self, /)\n",
      " |  \n",
      " |  __gt__(self, value, /)\n",
      " |      Return self>value.\n",
      " |  \n",
      " |  __hash__(self, /)\n",
      " |      Return hash(self).\n",
      " |  \n",
      " |  __iter__(self, /)\n",
      " |      Implement iter(self).\n",
      " |  \n",
      " |  __le__(self, value, /)\n",
      " |      Return self<=value.\n",
      " |  \n",
      " |  __len__(self, /)\n",
      " |      Return len(self).\n",
      " |  \n",
      " |  __lt__(self, value, /)\n",
      " |      Return self<value.\n",
      " |  \n",
      " |  __mul__(self, value, /)\n",
      " |      Return self*value.\n",
      " |  \n",
      " |  __ne__(self, value, /)\n",
      " |      Return self!=value.\n",
      " |  \n",
      " |  __repr__(self, /)\n",
      " |      Return repr(self).\n",
      " |  \n",
      " |  __rmul__(self, value, /)\n",
      " |      Return value*self.\n",
      " |  \n",
      " |  count(self, value, /)\n",
      " |      Return number of occurrences of value.\n",
      " |  \n",
      " |  index(self, value, start=0, stop=9223372036854775807, /)\n",
      " |      Return first index of value.\n",
      " |      \n",
      " |      Raises ValueError if the value is not present.\n",
      " |  \n",
      " |  ----------------------------------------------------------------------\n",
      " |  Class methods defined here:\n",
      " |  \n",
      " |  __class_getitem__(...) from builtins.type\n",
      " |      See PEP 585\n",
      " |  \n",
      " |  ----------------------------------------------------------------------\n",
      " |  Static methods defined here:\n",
      " |  \n",
      " |  __new__(*args, **kwargs) from builtins.type\n",
      " |      Create and return a new object.  See help(type) for accurate signature.\n",
      "\n"
     ]
    }
   ],
   "source": [
    "x=(\"hii\",\"hi\",\"Python\",'[1,2,3]')\n",
    "dir(x)\n",
    "help(x)"
   ]
  },
  {
   "cell_type": "markdown",
   "id": "506110af",
   "metadata": {},
   "source": [
    "# List"
   ]
  },
  {
   "cell_type": "code",
   "execution_count": 1,
   "id": "2fd9437e",
   "metadata": {},
   "outputs": [
    {
     "data": {
      "text/plain": [
       "list"
      ]
     },
     "execution_count": 1,
     "metadata": {},
     "output_type": "execute_result"
    }
   ],
   "source": [
    "x=[]\n",
    "type(x)"
   ]
  },
  {
   "cell_type": "code",
   "execution_count": 13,
   "id": "0c7d4f74",
   "metadata": {},
   "outputs": [
    {
     "name": "stdout",
     "output_type": "stream",
     "text": [
      "[1, 100, 3]\n"
     ]
    }
   ],
   "source": [
    "x=[1,2,3]\n",
    "x[1]=100\n",
    "print(x)"
   ]
  },
  {
   "cell_type": "code",
   "execution_count": 1,
   "id": "e39cacfa",
   "metadata": {},
   "outputs": [
    {
     "data": {
      "text/plain": [
       "[3, 2, 1]"
      ]
     },
     "execution_count": 1,
     "metadata": {},
     "output_type": "execute_result"
    }
   ],
   "source": [
    "x=[1,2,3]\n",
    "sorted(x,reverse=True)"
   ]
  },
  {
   "cell_type": "code",
   "execution_count": 9,
   "id": "dbdf024b",
   "metadata": {},
   "outputs": [
    {
     "name": "stdout",
     "output_type": "stream",
     "text": [
      "[1, 2, 3, 'hello']\n",
      "[1, 2, 3, 'hello', ['a', 'b']]\n",
      "[1, 2, 3, ['a', 'hello']]\n"
     ]
    }
   ],
   "source": [
    "x=[1,2,3]\n",
    "x.append('hello')\n",
    "print(x)\n",
    "x.append(['a','b'])\n",
    "print(x)\n",
    "x=[1,2,3,['a','b']]\n",
    "x[3][1]='hello'\n",
    "print(x)"
   ]
  },
  {
   "cell_type": "code",
   "execution_count": 10,
   "id": "dca30917",
   "metadata": {},
   "outputs": [
    {
     "name": "stdout",
     "output_type": "stream",
     "text": [
      "[1, 2, 3, 'a', 'b']\n"
     ]
    }
   ],
   "source": [
    "x=[1,2,3]\n",
    "x.extend(['a','b'])\n",
    "print(x)"
   ]
  },
  {
   "cell_type": "code",
   "execution_count": 11,
   "id": "5d083f63",
   "metadata": {},
   "outputs": [
    {
     "name": "stdout",
     "output_type": "stream",
     "text": [
      "[1, 2, 3, 'python']\n"
     ]
    }
   ],
   "source": [
    "x=[1,2,3]\n",
    "x.insert(3,'python')\n",
    "print(x)"
   ]
  },
  {
   "cell_type": "code",
   "execution_count": 14,
   "id": "ed296028",
   "metadata": {},
   "outputs": [
    {
     "name": "stdout",
     "output_type": "stream",
     "text": [
      "[1, 3, 4, 2, 5, 6, 8]\n",
      "[1, 3, 4, 2, 5, 6]\n"
     ]
    }
   ],
   "source": [
    "x=[1,2,3,4,2,5,6,8]\n",
    "x.remove(2)\n",
    "print(x)\n",
    "x.remove(8)\n",
    "print(x)"
   ]
  },
  {
   "cell_type": "code",
   "execution_count": 16,
   "id": "486ba947",
   "metadata": {},
   "outputs": [
    {
     "name": "stdout",
     "output_type": "stream",
     "text": [
      "6\n",
      "[3, 4, 5]\n"
     ]
    }
   ],
   "source": [
    "x=[3,4,5,6] \n",
    "print(x.pop())\n",
    "print(x)"
   ]
  },
  {
   "cell_type": "code",
   "execution_count": 17,
   "id": "72707cc0",
   "metadata": {},
   "outputs": [
    {
     "name": "stdout",
     "output_type": "stream",
     "text": [
      "None\n",
      "[]\n"
     ]
    }
   ],
   "source": [
    "x=[1,2,3,4,5]\n",
    "print(x.clear())\n",
    "print(x)"
   ]
  },
  {
   "cell_type": "code",
   "execution_count": 23,
   "id": "f0232b1f",
   "metadata": {},
   "outputs": [
    {
     "name": "stdout",
     "output_type": "stream",
     "text": [
      "[2, 3, 4, 5, 6]\n",
      "[2, 3, 4, 5, 6]\n"
     ]
    }
   ],
   "source": [
    "x=[5,2,3,4,6]\n",
    "x.sort()\n",
    "print(x)\n",
    "print(sorted(x))"
   ]
  },
  {
   "cell_type": "code",
   "execution_count": 26,
   "id": "5e4cf0af",
   "metadata": {},
   "outputs": [
    {
     "name": "stdout",
     "output_type": "stream",
     "text": [
      "[5, 4, 3, 2, 1]\n"
     ]
    },
    {
     "data": {
      "text/plain": [
       "<list_reverseiterator at 0x14392169fc0>"
      ]
     },
     "execution_count": 26,
     "metadata": {},
     "output_type": "execute_result"
    }
   ],
   "source": [
    "x=[1,2,3,4,5]\n",
    "x.reverse()\n",
    "print(x)\n",
    "reversed(x)"
   ]
  },
  {
   "cell_type": "code",
   "execution_count": 28,
   "id": "87694a08",
   "metadata": {},
   "outputs": [
    {
     "name": "stdout",
     "output_type": "stream",
     "text": [
      "[1, 100, 3]\n",
      "[1, 100, 3]\n"
     ]
    }
   ],
   "source": [
    "x=[1,2,3]\n",
    "y=x\n",
    "y[1]=100\n",
    "print(x)\n",
    "print(y)"
   ]
  },
  {
   "cell_type": "code",
   "execution_count": 29,
   "id": "688080cf",
   "metadata": {},
   "outputs": [
    {
     "name": "stdout",
     "output_type": "stream",
     "text": [
      "[1, 2, 3]\n",
      "[1, 2, 3]\n"
     ]
    }
   ],
   "source": [
    "x=[1,2,3]\n",
    "y=x.copy()\n",
    "print(x)\n",
    "print(y)\n",
    "y[1]=200"
   ]
  },
  {
   "cell_type": "markdown",
   "id": "f17b7afd",
   "metadata": {},
   "source": [
    "# Set"
   ]
  },
  {
   "cell_type": "code",
   "execution_count": 32,
   "id": "15aa34c5",
   "metadata": {},
   "outputs": [
    {
     "data": {
      "text/plain": [
       "dict"
      ]
     },
     "execution_count": 32,
     "metadata": {},
     "output_type": "execute_result"
    }
   ],
   "source": [
    "A={}\n",
    "type(A)"
   ]
  },
  {
   "cell_type": "code",
   "execution_count": 33,
   "id": "08415aac",
   "metadata": {},
   "outputs": [
    {
     "data": {
      "text/plain": [
       "set"
      ]
     },
     "execution_count": 33,
     "metadata": {},
     "output_type": "execute_result"
    }
   ],
   "source": [
    "A=set()\n",
    "type(A)"
   ]
  },
  {
   "cell_type": "code",
   "execution_count": 39,
   "id": "f319d4e1",
   "metadata": {},
   "outputs": [
    {
     "name": "stdout",
     "output_type": "stream",
     "text": [
      "{1, 2, 3, 4, 5}\n",
      "{1, 2, 3, 4, 5, 100}\n",
      "{1, 2, 3, 4, 5, 100, 9, 10}\n",
      "{1, 2, 3, 4, 5, 9, 10}\n"
     ]
    },
    {
     "ename": "KeyError",
     "evalue": "{1, 2, 3, 4, 5, 9, 10}",
     "output_type": "error",
     "traceback": [
      "\u001b[1;31m---------------------------------------------------------------------------\u001b[0m",
      "\u001b[1;31mKeyError\u001b[0m                                  Traceback (most recent call last)",
      "Cell \u001b[1;32mIn[39], line 9\u001b[0m\n\u001b[0;32m      7\u001b[0m A\u001b[38;5;241m.\u001b[39mdiscard(\u001b[38;5;241m100\u001b[39m)\n\u001b[0;32m      8\u001b[0m \u001b[38;5;28mprint\u001b[39m(A)\n\u001b[1;32m----> 9\u001b[0m A\u001b[38;5;241m.\u001b[39mremove(A)\n\u001b[0;32m     10\u001b[0m \u001b[38;5;28mprint\u001b[39m(A)\n",
      "\u001b[1;31mKeyError\u001b[0m: {1, 2, 3, 4, 5, 9, 10}"
     ]
    }
   ],
   "source": [
    "A={1,2,3,4,3,5}\n",
    "print(A)\n",
    "A.add(100)\n",
    "print(A)\n",
    "A.update([9,10,100])\n",
    "print(A)\n",
    "A.discard(100)\n",
    "print(A)\n",
    "A.remove(A)\n",
    "print(A)"
   ]
  },
  {
   "cell_type": "code",
   "execution_count": 48,
   "id": "4135848a",
   "metadata": {},
   "outputs": [
    {
     "name": "stdout",
     "output_type": "stream",
     "text": [
      "{1, 2, 3, 4, 5, 6, 7, 8}\n",
      "{4, 5}\n",
      "{1, 2, 3}\n",
      "{1, 2, 3, 6, 7, 8}\n"
     ]
    }
   ],
   "source": [
    "A={1,2,3,4,5}\n",
    "B={4,5,6,7,8}\n",
    "print(A.union(B))\n",
    "print(A.intersection(B))\n",
    "print(A.difference(B))\n",
    "print(A.symmetric_difference(B))"
   ]
  },
  {
   "cell_type": "code",
   "execution_count": 51,
   "id": "75f5fc2b",
   "metadata": {},
   "outputs": [
    {
     "name": "stdout",
     "output_type": "stream",
     "text": [
      "frozenset({1, 2, 3})\n",
      "frozenset({3, 4, 5})\n"
     ]
    }
   ],
   "source": [
    "A=frozenset([1,2,3])\n",
    "print(A)\n",
    "B=frozenset([3,4,5])\n",
    "print(B)"
   ]
  },
  {
   "cell_type": "markdown",
   "id": "988bcccd",
   "metadata": {},
   "source": [
    "# Dictionary"
   ]
  },
  {
   "cell_type": "code",
   "execution_count": 52,
   "id": "e9980d6a",
   "metadata": {},
   "outputs": [
    {
     "data": {
      "text/plain": [
       "dict"
      ]
     },
     "execution_count": 52,
     "metadata": {},
     "output_type": "execute_result"
    }
   ],
   "source": [
    "d={}\n",
    "type(d)"
   ]
  },
  {
   "cell_type": "code",
   "execution_count": 54,
   "id": "fb051067",
   "metadata": {},
   "outputs": [
    {
     "name": "stdout",
     "output_type": "stream",
     "text": [
      "Java\n",
      "hello\n",
      "[1, 2, 3]\n"
     ]
    }
   ],
   "source": [
    "d={1:'Python',2:'C#',3:'Java'}\n",
    "d[3]='Java'\n",
    "print(d[3])\n",
    "d[3]='hello'\n",
    "print(d[3])\n",
    "d[3]=[1,2,3]\n",
    "print(d[3])"
   ]
  },
  {
   "cell_type": "code",
   "execution_count": 55,
   "id": "05be8311",
   "metadata": {},
   "outputs": [],
   "source": [
    "del d"
   ]
  },
  {
   "cell_type": "code",
   "execution_count": 57,
   "id": "dae5bb12",
   "metadata": {},
   "outputs": [
    {
     "data": {
      "text/plain": [
       "['a', 'e', 'i', 'o', 'u']"
      ]
     },
     "execution_count": 57,
     "metadata": {},
     "output_type": "execute_result"
    }
   ],
   "source": [
    "d={'a':1,'o':2,'e':3,'i':4,'u':5}\n",
    "sorted(d)"
   ]
  },
  {
   "cell_type": "code",
   "execution_count": 59,
   "id": "6c23cc95",
   "metadata": {},
   "outputs": [
    {
     "name": "stdout",
     "output_type": "stream",
     "text": [
      "{}\n"
     ]
    }
   ],
   "source": [
    "d.clear()\n",
    "print(d)"
   ]
  },
  {
   "cell_type": "code",
   "execution_count": 60,
   "id": "2146146e",
   "metadata": {},
   "outputs": [
    {
     "name": "stdout",
     "output_type": "stream",
     "text": [
      "[1, 2, 100]\n"
     ]
    }
   ],
   "source": [
    "a=[1,2,3]\n",
    "b=a\n",
    "b[2]=100\n",
    "print(a)"
   ]
  },
  {
   "cell_type": "code",
   "execution_count": 74,
   "id": "6b637d64",
   "metadata": {},
   "outputs": [
    {
     "name": "stdout",
     "output_type": "stream",
     "text": [
      "{1: 'Python', 2: 'Java'}\n",
      "Python\n",
      "None\n",
      "Hello\n",
      "Java\n"
     ]
    }
   ],
   "source": [
    "dict1={1:'Python',2:'Java'}\n",
    "dict2=dict1.copy()\n",
    "print(dict2)\n",
    "print(dict1.get(1))\n",
    "print(dict1.get(3))\n",
    "print(dict1.get(3,'Hello'))\n",
    "print(dict1[2])\n",
    "# print(dict1[3])              KeyError "
   ]
  },
  {
   "cell_type": "code",
   "execution_count": 75,
   "id": "b0a5beb7",
   "metadata": {},
   "outputs": [
    {
     "name": "stdout",
     "output_type": "stream",
     "text": [
      "dict_items([('a', 1), ('e', 2), ('i', 3), ('o', 4), ('u', 5)])\n",
      "dict_keys(['a', 'e', 'i', 'o', 'u'])\n",
      "dict_values([1, 2, 3, 4, 5])\n"
     ]
    }
   ],
   "source": [
    "d={'a':1,'e':2,'i':3,'o':4,'u':5}\n",
    "print(d.items())\n",
    "print(d.keys())\n",
    "print(d.values())"
   ]
  },
  {
   "cell_type": "code",
   "execution_count": 76,
   "id": "e3d667c8",
   "metadata": {},
   "outputs": [
    {
     "name": "stdout",
     "output_type": "stream",
     "text": [
      "{'a': 1, 'b': 2, 'c': 3, 'd': 4}\n"
     ]
    }
   ],
   "source": [
    "d1={'a':1,'b':2}\n",
    "d2={'c':3,'d':4}\n",
    "d1.update(d2)\n",
    "print(d1)"
   ]
  },
  {
   "cell_type": "code",
   "execution_count": 77,
   "id": "b7453aeb",
   "metadata": {},
   "outputs": [
    {
     "name": "stdout",
     "output_type": "stream",
     "text": [
      "{1: None, 2: None, 3: None}\n",
      "{1: 50, 2: 50, 3: 50}\n"
     ]
    }
   ],
   "source": [
    "d={}\n",
    "seq=(1,2,3)\n",
    "d1=d.fromkeys(seq)\n",
    "print(d1)\n",
    "d2=d.fromkeys(seq,50)\n",
    "print(d2)"
   ]
  },
  {
   "cell_type": "code",
   "execution_count": 78,
   "id": "707eecf9",
   "metadata": {},
   "outputs": [
    {
     "name": "stdout",
     "output_type": "stream",
     "text": [
      "('a', 1)\n",
      "('b', 2)\n",
      "('c', 3)\n",
      "<class 'tuple'>\n"
     ]
    }
   ],
   "source": [
    "d={'a':1,'b':2,'c':3}\n",
    "for items in d.items():\n",
    "    print(items)\n",
    "print(type(items))    "
   ]
  },
  {
   "cell_type": "markdown",
   "id": "8528fc00",
   "metadata": {},
   "source": [
    "# Lambda (Anonymous) Function"
   ]
  },
  {
   "cell_type": "code",
   "execution_count": 79,
   "id": "d3b4e501",
   "metadata": {},
   "outputs": [
    {
     "name": "stdout",
     "output_type": "stream",
     "text": [
      "[1, 4, 9, 16]\n"
     ]
    }
   ],
   "source": [
    "# [1] : map(function,iterable,....) - This function applies spacific function to all the items in given iterable and \n",
    "# returns modified iterator\n",
    "\n",
    "numbers=[1,2,3,4]\n",
    "squares=list(map(lambda x:x**2,numbers))\n",
    "print(squares)"
   ]
  },
  {
   "cell_type": "code",
   "execution_count": 88,
   "id": "6be4b8a7",
   "metadata": {},
   "outputs": [
    {
     "name": "stdout",
     "output_type": "stream",
     "text": [
      "[1, 4, 9, 16]\n",
      "1\n",
      "4\n",
      "9\n",
      "16\n"
     ]
    },
    {
     "ename": "StopIteration",
     "evalue": "",
     "output_type": "error",
     "traceback": [
      "\u001b[1;31m---------------------------------------------------------------------------\u001b[0m",
      "\u001b[1;31mStopIteration\u001b[0m                             Traceback (most recent call last)",
      "Cell \u001b[1;32mIn[88], line 9\u001b[0m\n\u001b[0;32m      7\u001b[0m \u001b[38;5;28mprint\u001b[39m(\u001b[38;5;28mnext\u001b[39m(squares))\n\u001b[0;32m      8\u001b[0m \u001b[38;5;28mprint\u001b[39m(\u001b[38;5;28mnext\u001b[39m(squares))\n\u001b[1;32m----> 9\u001b[0m \u001b[38;5;28mprint\u001b[39m(\u001b[38;5;28mnext\u001b[39m(squares))\n",
      "\u001b[1;31mStopIteration\u001b[0m: "
     ]
    }
   ],
   "source": [
    "numbers=[1,2,3,4]\n",
    "squares=list(map(lambda x:x**2,numbers))\n",
    "print(squares)\n",
    "squares=(map(lambda x:x**2,numbers))\n",
    "print(next(squares))\n",
    "print(next(squares))\n",
    "print(next(squares))\n",
    "print(next(squares))\n",
    "print(next(squares))"
   ]
  },
  {
   "cell_type": "code",
   "execution_count": 90,
   "id": "95af7b4c",
   "metadata": {},
   "outputs": [
    {
     "name": "stdout",
     "output_type": "stream",
     "text": [
      "[2, 4]\n",
      "[False, True, False, True]\n"
     ]
    }
   ],
   "source": [
    "# [2] : filter(function,iterable,....) - This function creates an iterator from elements of iterable for which function\n",
    "#     returns true\n",
    "\n",
    "numbers=[1,2,3,4]\n",
    "evens=list(filter(lambda x:x%2==0,numbers))\n",
    "print(evens)\n",
    "\n",
    "evens=list(map(lambda x:x%2==0,numbers))\n",
    "print(evens)"
   ]
  },
  {
   "cell_type": "code",
   "execution_count": 91,
   "id": "f96ccf12",
   "metadata": {},
   "outputs": [
    {
     "name": "stdout",
     "output_type": "stream",
     "text": [
      "24\n"
     ]
    }
   ],
   "source": [
    "# [3] : reduce(function,iterable) - This function applies specific function cummulatively to the items of iterable from left to\n",
    "#     right and reduce iterable to single value\n",
    "\n",
    "from functools import reduce\n",
    "numbers=[1,2,3,4]\n",
    "product=reduce(lambda x,y:x*y,numbers)\n",
    "print(product)"
   ]
  },
  {
   "cell_type": "code",
   "execution_count": 92,
   "id": "2b049726",
   "metadata": {},
   "outputs": [
    {
     "ename": "ModuleNotFoundError",
     "evalue": "No module named 'functool'",
     "output_type": "error",
     "traceback": [
      "\u001b[1;31m---------------------------------------------------------------------------\u001b[0m",
      "\u001b[1;31mModuleNotFoundError\u001b[0m                       Traceback (most recent call last)",
      "Cell \u001b[1;32mIn[92], line 1\u001b[0m\n\u001b[1;32m----> 1\u001b[0m \u001b[38;5;28;01mfrom\u001b[39;00m \u001b[38;5;21;01mfunctool\u001b[39;00m \u001b[38;5;28;01mimport\u001b[39;00m reduce\n\u001b[0;32m      2\u001b[0m numbers\u001b[38;5;241m=\u001b[39m[\u001b[38;5;241m1\u001b[39m,\u001b[38;5;241m2\u001b[39m,\u001b[38;5;241m3\u001b[39m,\u001b[38;5;241m4\u001b[39m]\n\u001b[0;32m      3\u001b[0m product\u001b[38;5;241m=\u001b[39mreduce(\u001b[38;5;28;01mlambda\u001b[39;00m x,y:x\u001b[38;5;241m*\u001b[39my,numbers)\n",
      "\u001b[1;31mModuleNotFoundError\u001b[0m: No module named 'functool'"
     ]
    }
   ],
   "source": [
    "from functool import reduce\n",
    "numbers=[1,2,3,4]\n",
    "product=reduce(lambda x,y:x*y,numbers)\n",
    "print(product)"
   ]
  },
  {
   "cell_type": "code",
   "execution_count": 93,
   "id": "dca20b4a",
   "metadata": {},
   "outputs": [
    {
     "name": "stdout",
     "output_type": "stream",
     "text": [
      "10\n"
     ]
    }
   ],
   "source": [
    "from functools import reduce\n",
    "numbers=[1,2,3,4]\n",
    "product=reduce(lambda x,y:x+y,numbers)\n",
    "print(product)"
   ]
  }
 ],
 "metadata": {
  "kernelspec": {
   "display_name": "Python 3 (ipykernel)",
   "language": "python",
   "name": "python3"
  },
  "language_info": {
   "codemirror_mode": {
    "name": "ipython",
    "version": 3
   },
   "file_extension": ".py",
   "mimetype": "text/x-python",
   "name": "python",
   "nbconvert_exporter": "python",
   "pygments_lexer": "ipython3",
   "version": "3.11.5"
  }
 },
 "nbformat": 4,
 "nbformat_minor": 5
}
