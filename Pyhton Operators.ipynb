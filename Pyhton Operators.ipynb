{
 "cells": [
  {
   "cell_type": "markdown",
   "id": "65cf5dea",
   "metadata": {},
   "source": [
    "# Arithmetic OR (Mathematical) Operator :-"
   ]
  },
  {
   "cell_type": "code",
   "execution_count": null,
   "id": "dcdfa0cb",
   "metadata": {},
   "outputs": [],
   "source": [
    "a = 10\n",
    "b = 5\n",
    "print(\"a is 10 and b is 5\")\n",
    "# Addition\n",
    "print(\"a + b = \",a+b)\n",
    "# Subtraction\n",
    "print(\"a - b = \",a-b)\n",
    "# Multiplication\n",
    "print(\"a * b = \",a*b)\n",
    "# Division\n",
    "print(\"a / b = \",a/b)\n",
    "# Modulus\n",
    "print(\"a % b = \",a%b)\n",
    "# Floor Division\n",
    "print(\"a // b = \",a//b)\n",
    "# Exponent\n",
    "print(\"a ** b = \",a**b)"
   ]
  },
  {
   "cell_type": "markdown",
   "id": "d5fa55a0",
   "metadata": {},
   "source": [
    "# Logical Operator :-"
   ]
  },
  {
   "cell_type": "code",
   "execution_count": null,
   "id": "aeebb57d",
   "metadata": {},
   "outputs": [],
   "source": [
    "a =5\n",
    "# a = 0\n",
    "# b = 6\n",
    "b = 0\n",
    "# print(\"a is 5 and b is 6\")\n",
    "# print(\"a is 0 and b is 6\")\n",
    "print(\"a is 5 and b is 0\")\n",
    "# AND\n",
    "print(\"ans = \",a and b)  # returns x if x is false,y otherwise\n",
    "# OR\n",
    "print(\"ans = \",a or b)   # returns y if x is false,x otherwise\n",
    "# NOT\n",
    "print(\"ans = \",not(a and b))     # returns true if x is false,false otherwise\n",
    "print(\"ans = \",not(a or b))"
   ]
  },
  {
   "cell_type": "markdown",
   "id": "0865fa5a",
   "metadata": {},
   "source": [
    "# Membership Operator:-"
   ]
  },
  {
   "cell_type": "code",
   "execution_count": null,
   "id": "f6c387e4",
   "metadata": {},
   "outputs": [],
   "source": [
    "a = \" Pyhton\"\n",
    "print(type(a))\n",
    "print(\"y\" in a)\n",
    "print(\"p\" not in a)"
   ]
  },
  {
   "cell_type": "markdown",
   "id": "7812433b",
   "metadata": {},
   "source": [
    "# Assignment Operator :-"
   ]
  },
  {
   "cell_type": "code",
   "execution_count": null,
   "id": "e6d7b7aa",
   "metadata": {},
   "outputs": [],
   "source": [
    "# Assigning values to variable\n",
    "a=5\n",
    "b=16\n",
    "# Simple assignment operator\n",
    "b=a\n",
    "print(\"a is 5 and b is 16\")\n",
    "print(\"b = a : \",a)\n",
    "# Add AND Operator\n",
    "b += a\n",
    "print(\"b += a : \",b)\n",
    "# Subtract AND Operator\n",
    "b -= a\n",
    "print(\"b -= a : \",b)\n",
    "# Multiplication AND Operator\n",
    "b *= a\n",
    "print(\"b *= a : \",b)\n",
    "# Division AND Operator\n",
    "b /= a\n",
    "print(\"b /= a : \",b)\n",
    "# Modulus AND Operator\n",
    "b %= a\n",
    "print(\"b %= a : \",b)\n",
    "# Exponent AND Operator\n",
    "b ** a\n",
    "print(\"b ** a : \",b)"
   ]
  },
  {
   "cell_type": "markdown",
   "id": "fe8a3692",
   "metadata": {},
   "source": [
    "# Comparision Operator :-"
   ]
  },
  {
   "cell_type": "code",
   "execution_count": null,
   "id": "4ed436e6",
   "metadata": {},
   "outputs": [],
   "source": [
    "a=5\n",
    "b=10\n",
    "print(\"a is 5 and b  10 \")\n",
    "# Equal TO AND Operator\n",
    "b == a\n",
    "print(\"b == a : \",b == a)\n",
    "# Not Equal TO AND Operator\n",
    "b != a\n",
    "print(\"b != a : \",b != a)\n",
    "# Greater Than Equal AND Operator\n",
    "b >= a\n",
    "print(\"b >= a : \",b >= a)\n",
    "# Less Than Equal AND Operator\n",
    "b <= a\n",
    "print(\"b <= a : \",b <= a)\n",
    "# Greater Than AND Operator\n",
    "b > a\n",
    "print(\"b > a : \",b > a)\n",
    "# Less Than AND Operator\n",
    "b < a\n",
    "print(\"b < a : \",b < a)"
   ]
  },
  {
   "cell_type": "markdown",
   "id": "ebd0fe55",
   "metadata": {},
   "source": [
    "# Ternary Operators :-"
   ]
  },
  {
   "cell_type": "code",
   "execution_count": null,
   "id": "72b7b7bb",
   "metadata": {},
   "outputs": [],
   "source": [
    "x=\"even\" if(10%2==0)else\"odd\"\n",
    "print(x)"
   ]
  }
 ],
 "metadata": {
  "kernelspec": {
   "display_name": "Python 3 (ipykernel)",
   "language": "python",
   "name": "python3"
  },
  "language_info": {
   "codemirror_mode": {
    "name": "ipython",
    "version": 3
   },
   "file_extension": ".py",
   "mimetype": "text/x-python",
   "name": "python",
   "nbconvert_exporter": "python",
   "pygments_lexer": "ipython3",
   "version": "3.11.5"
  }
 },
 "nbformat": 4,
 "nbformat_minor": 5
}
