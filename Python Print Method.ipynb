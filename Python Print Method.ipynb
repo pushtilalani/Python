{
 "cells": [
  {
   "cell_type": "code",
   "execution_count": 1,
   "id": "494c1624",
   "metadata": {},
   "outputs": [
    {
     "name": "stdout",
     "output_type": "stream",
     "text": [
      "Hello World!\n"
     ]
    }
   ],
   "source": [
    "print(\"Hello World!\")"
   ]
  },
  {
   "cell_type": "code",
   "execution_count": 2,
   "id": "9fa96b0e",
   "metadata": {},
   "outputs": [
    {
     "name": "stdout",
     "output_type": "stream",
     "text": [
      "Hello World!\n",
      "None\n"
     ]
    }
   ],
   "source": [
    "print(print(\"Hello World!\"))"
   ]
  },
  {
   "cell_type": "code",
   "execution_count": 14,
   "id": "124004ae",
   "metadata": {},
   "outputs": [
    {
     "name": "stdout",
     "output_type": "stream",
     "text": [
      "Name =  Python \n",
      " Age =  20\n"
     ]
    }
   ],
   "source": [
    "name = \"Python\" \n",
    "age = 20\n",
    "print(\"Name = \",name,\"\\n Age = \",age)"
   ]
  },
  {
   "cell_type": "code",
   "execution_count": 15,
   "id": "fa4d61b5",
   "metadata": {},
   "outputs": [
    {
     "name": "stdout",
     "output_type": "stream",
     "text": [
      "My Name = Pushti Age = 20\n"
     ]
    }
   ],
   "source": [
    "name='Pushti'\n",
    "age=20\n",
    "print(f\"My Name = {name} Age = {age}\")"
   ]
  },
  {
   "cell_type": "code",
   "execution_count": 5,
   "id": "bf636c11",
   "metadata": {},
   "outputs": [
    {
     "name": "stdout",
     "output_type": "stream",
     "text": [
      "This is\n",
      "a new line\n"
     ]
    }
   ],
   "source": [
    "print(\"This is\")\n",
    "print(\"a new line\")"
   ]
  },
  {
   "cell_type": "code",
   "execution_count": 7,
   "id": "1200b3d3",
   "metadata": {},
   "outputs": [
    {
     "name": "stdout",
     "output_type": "stream",
     "text": [
      "This is a new line\n"
     ]
    }
   ],
   "source": [
    "print(\"This is\",end=\" \")\n",
    "print(\"a new line\")"
   ]
  },
  {
   "cell_type": "code",
   "execution_count": 8,
   "id": "50e3f049",
   "metadata": {},
   "outputs": [
    {
     "name": "stdout",
     "output_type": "stream",
     "text": [
      "apple banana cherry\n"
     ]
    }
   ],
   "source": [
    "print(\"apple\",\"banana\",\"cherry\")"
   ]
  },
  {
   "cell_type": "code",
   "execution_count": 9,
   "id": "197357c1",
   "metadata": {},
   "outputs": [
    {
     "name": "stdout",
     "output_type": "stream",
     "text": [
      "apple,banana,cherry\n"
     ]
    }
   ],
   "source": [
    "print(\"apple\",\"banana\",\"cherry\",sep=',')"
   ]
  },
  {
   "cell_type": "code",
   "execution_count": 11,
   "id": "a91b384f",
   "metadata": {},
   "outputs": [
    {
     "name": "stdout",
     "output_type": "stream",
     "text": [
      "Help on built-in function print in module builtins:\n",
      "\n",
      "print(*args, sep=' ', end='\\n', file=None, flush=False)\n",
      "    Prints the values to a stream, or to sys.stdout by default.\n",
      "    \n",
      "    sep\n",
      "      string inserted between values, default a space.\n",
      "    end\n",
      "      string appended after the last value, default a newline.\n",
      "    file\n",
      "      a file-like object (stream); defaults to the current sys.stdout.\n",
      "    flush\n",
      "      whether to forcibly flush the stream.\n",
      "\n"
     ]
    }
   ],
   "source": [
    "help(print)"
   ]
  },
  {
   "cell_type": "markdown",
   "id": "17b2e213",
   "metadata": {},
   "source": [
    "# Commenting :-"
   ]
  },
  {
   "cell_type": "code",
   "execution_count": 12,
   "id": "91050bf4",
   "metadata": {},
   "outputs": [
    {
     "data": {
      "text/plain": [
       "'MultiLine Comments'"
      ]
     },
     "execution_count": 12,
     "metadata": {},
     "output_type": "execute_result"
    }
   ],
   "source": [
    "\"\"\"MultiLine Comments\"\"\""
   ]
  },
  {
   "cell_type": "code",
   "execution_count": 13,
   "id": "fc358195",
   "metadata": {},
   "outputs": [],
   "source": [
    "# Single Line Comments"
   ]
  },
  {
   "cell_type": "code",
   "execution_count": 17,
   "id": "142f1bde",
   "metadata": {},
   "outputs": [
    {
     "name": "stdout",
     "output_type": "stream",
     "text": [
      "50.0\n"
     ]
    }
   ],
   "source": [
    "d=500     # distance in km\n",
    "t=10      # time in hours(hr)\n",
    "s=d/t\n",
    "print(s)"
   ]
  },
  {
   "cell_type": "markdown",
   "id": "bb1c57fc",
   "metadata": {},
   "source": [
    "# Type Casting:-"
   ]
  },
  {
   "cell_type": "code",
   "execution_count": 18,
   "id": "fc5ea7d2",
   "metadata": {},
   "outputs": [
    {
     "name": "stdout",
     "output_type": "stream",
     "text": [
      "5.0\n"
     ]
    }
   ],
   "source": [
    "a=float(5)\n",
    "print(a)"
   ]
  },
  {
   "cell_type": "code",
   "execution_count": 21,
   "id": "6dd183fb",
   "metadata": {},
   "outputs": [
    {
     "name": "stdout",
     "output_type": "stream",
     "text": [
      "5\n"
     ]
    }
   ],
   "source": [
    "a=str(5)\n",
    "print(a)"
   ]
  },
  {
   "cell_type": "markdown",
   "id": "b80c7353",
   "metadata": {},
   "source": [
    "# INPUT()"
   ]
  },
  {
   "cell_type": "code",
   "execution_count": 23,
   "id": "11046e88",
   "metadata": {},
   "outputs": [
    {
     "name": "stdout",
     "output_type": "stream",
     "text": [
      "Enter Your Marks : 8\n",
      "Marks :  8\n"
     ]
    }
   ],
   "source": [
    "a=int(input(\"Enter Your Marks : \"))\n",
    "print(\"Marks : \",a)"
   ]
  }
 ],
 "metadata": {
  "kernelspec": {
   "display_name": "Python 3 (ipykernel)",
   "language": "python",
   "name": "python3"
  },
  "language_info": {
   "codemirror_mode": {
    "name": "ipython",
    "version": 3
   },
   "file_extension": ".py",
   "mimetype": "text/x-python",
   "name": "python",
   "nbconvert_exporter": "python",
   "pygments_lexer": "ipython3",
   "version": "3.11.5"
  }
 },
 "nbformat": 4,
 "nbformat_minor": 5
}
